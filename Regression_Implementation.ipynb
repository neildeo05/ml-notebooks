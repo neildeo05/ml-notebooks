{
 "cells": [
  {
   "cell_type": "code",
   "execution_count": 4,
   "metadata": {},
   "outputs": [],
   "source": [
    "#Linear regression is the most simple type of nn if you think abnout it\n",
    "#Basically there is an input layer and an output layer\n",
    "import torch\n",
    "import torch.nn as nn \n",
    "import torch.nn.functional as F\n",
    "from torch.utils.data import TensorDataset\n",
    "from torch.utils.data import DataLoader\n",
    "\n",
    "import matplotlib.pyplot as plt\n",
    "import numpy as np\n",
    "\n",
    "#this one looks at temperature, humidity and rainfall to get crop yields - lets do something like that\n",
    "\n",
    "inputs = np.array([[73, 67, 43], [91, 88, 64], [87, 134, 58], \n",
    "                   [102, 43, 37], [69, 96, 70], [73, 67, 43], \n",
    "                   [91, 88, 64], [87, 134, 58], [102, 43, 37], \n",
    "                   [69, 96, 70], [73, 67, 43], [91, 88, 64], \n",
    "                   [87, 134, 58], [102, 43, 37], [69, 96, 70]], \n",
    "                  dtype='float32')\n",
    "\n",
    "# Targets (apples, oranges)\n",
    "targets = np.array([[56, 70], [81, 101], [119, 133], \n",
    "                    [22, 37], [103, 119], [56, 70], \n",
    "                    [81, 101], [119, 133], [22, 37], \n",
    "                    [103, 119], [56, 70], [81, 101], \n",
    "                    [119, 133], [22, 37], [103, 119]], \n",
    "                   dtype='float32')\n",
    "\n",
    "\n",
    "#potential regression models - 3 inputs 2 target outputs, \n"
   ]
  },
  {
   "cell_type": "code",
   "execution_count": 5,
   "metadata": {},
   "outputs": [],
   "source": [
    "\n",
    "inputs = torch.from_numpy(inputs)\n",
    "targets = torch.from_numpy(targets)\n",
    "\n",
    "training_dataset = TensorDataset(inputs, targets)\n",
    "\n",
    "batches = 5\n",
    "\n",
    "train_dl = DataLoader(training_dataset, batches, shuffle=True)\n"
   ]
  },
  {
   "cell_type": "code",
   "execution_count": 6,
   "metadata": {},
   "outputs": [
    {
     "name": "stdout",
     "output_type": "stream",
     "text": [
      "tensor([[ 54.2820, -10.6370],\n",
      "        [ 70.9663, -13.0708],\n",
      "        [ 95.4623,  -1.0455],\n",
      "        [ 46.1797, -24.8019],\n",
      "        [ 71.5109,  -4.7203],\n",
      "        [ 54.2820, -10.6370],\n",
      "        [ 70.9663, -13.0708],\n",
      "        [ 95.4623,  -1.0455],\n",
      "        [ 46.1797, -24.8019],\n",
      "        [ 71.5109,  -4.7203],\n",
      "        [ 54.2820, -10.6370],\n",
      "        [ 70.9663, -13.0708],\n",
      "        [ 95.4623,  -1.0455],\n",
      "        [ 46.1797, -24.8019],\n",
      "        [ 71.5109,  -4.7203]], grad_fn=<AddmmBackward>)\n"
     ]
    }
   ],
   "source": [
    "model = nn.Linear(3,2)\n",
    "\n",
    "preds = model(inputs)\n",
    "print(preds)\n",
    "\n",
    "mse = F.mse_loss\n",
    "\n",
    "loss = mse(preds, targets)\n"
   ]
  },
  {
   "cell_type": "code",
   "execution_count": 7,
   "metadata": {},
   "outputs": [],
   "source": [
    "#need a number of epochs, a model, a loss function, and a training dataloader\n",
    "def fit(num_epochs, model, loss_fn, train_dl):\n",
    "    for epoch in range(num_epochs):\n",
    "        #in 5 different batches, and it has 2 different tensors that are stored\n",
    "        for x,y in train_dl:\n",
    "            preds = model(x)\n",
    "            loss = mse(preds, y)\n",
    "            loss.backward()\n",
    "            with torch.no_grad():\n",
    "                model.weight -= model.weight.grad * 1e-5\n",
    "                model.bias -= model.bias.grad * 1e-5\n",
    "                model.weight.grad.zero_()\n",
    "                model.bias.grad.zero_()\n",
    "\n",
    "        if (epoch + 1) % 10 == 0:\n",
    "            print('Epoch [{}/{}], Loss: {:.4f}'.format(epoch+1, num_epochs, loss.item()))"
   ]
  },
  {
   "cell_type": "code",
   "execution_count": 26,
   "metadata": {},
   "outputs": [
    {
     "name": "stdout",
     "output_type": "stream",
     "text": [
      "Epoch [10/100], Loss: 0.6793\n",
      "Epoch [20/100], Loss: 0.4044\n",
      "Epoch [30/100], Loss: 0.2922\n",
      "Epoch [40/100], Loss: 0.5923\n",
      "Epoch [50/100], Loss: 0.6254\n",
      "Epoch [60/100], Loss: 0.7000\n",
      "Epoch [70/100], Loss: 0.4761\n",
      "Epoch [80/100], Loss: 0.5485\n",
      "Epoch [90/100], Loss: 0.4374\n",
      "Epoch [100/100], Loss: 0.3946\n",
      "tensor([31.0746, 55.0647], grad_fn=<AddBackward0>)\n"
     ]
    }
   ],
   "source": [
    "fit(100, model, mse, train_dl)\n",
    "\n",
    "#temperature, humidity, and rainfall \n",
    "\n",
    "# temp rain hum | apples oranges\n",
    "\n",
    "test_param = torch.Tensor([61, 0, 81])\n",
    "\n",
    "preds = model(test_param)\n",
    "\n",
    "print(preds)"
   ]
  },
  {
   "cell_type": "code",
   "execution_count": null,
   "metadata": {},
   "outputs": [],
   "source": []
  }
 ],
 "metadata": {
  "kernelspec": {
   "display_name": "Python 3",
   "language": "python",
   "name": "python3"
  },
  "language_info": {
   "codemirror_mode": {
    "name": "ipython",
    "version": 3
   },
   "file_extension": ".py",
   "mimetype": "text/x-python",
   "name": "python",
   "nbconvert_exporter": "python",
   "pygments_lexer": "ipython3",
   "version": "3.7.3"
  }
 },
 "nbformat": 4,
 "nbformat_minor": 2
}
