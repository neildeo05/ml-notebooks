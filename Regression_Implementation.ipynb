{
 "cells": [
  {
   "cell_type": "code",
   "execution_count": 139,
   "metadata": {},
   "outputs": [],
   "source": [
    "#Linear regression is the most simple type of nn if you think abnout it\n",
    "#Basically there is an input layer and an output layer\n",
    "import torch\n",
    "import torch.nn as nn \n",
    "import torch.nn.functional as F\n",
    "from torch.utils.data import TensorDataset\n",
    "from torch.utils.data import DataLoader\n",
    "\n",
    "import matplotlib.pyplot as plt\n",
    "import numpy as np\n",
    "\n",
    "#this one looks at temperature, humidity and rainfall to get crop yields - lets do something like that\n",
    "\n",
    "\n",
    "inputs = np.array([[73, 67, 43], [91, 88, 64], [87, 134, 58], \n",
    "                   [102, 43, 37], [69, 96, 70], [73, 67, 43], \n",
    "                   [91, 88, 64], [87, 134, 58], [102, 43, 37], \n",
    "                   [69, 96, 70], [73, 67, 43], [91, 88, 64], \n",
    "                   [87, 134, 58], [102, 43, 37], [69, 96, 70]], \n",
    "                  dtype='float32')\n",
    "\n",
    "# Targets (apples, oranges)\n",
    "targets = np.array([[56, 70], [81, 101], [119, 133], \n",
    "                    [22, 37], [103, 119], [56, 70], \n",
    "                    [81, 101], [119, 133], [22, 37], \n",
    "                    [103, 119], [56, 70], [81, 101], \n",
    "                    [119, 133], [22, 37], [103, 119]], \n",
    "                   dtype='float32')\n",
    "\n",
    "\n",
    "#insulin, blood sugar, blood pressure\n",
    "\n",
    "metrics = np.array([[100, 130, 220], [50, 60, 150], [30, 130, 221], \n",
    "                    [40, 51, 230], [90, 180, 270], [100, 130, 220], \n",
    "                    [50, 60, 150],[30, 130, 221], [40, 51, 230], \n",
    "                    [90, 180, 270], [100, 130, 220], [50, 60, 150], \n",
    "                    [30, 130, 221], [40, 51, 230], [90, 180, 270]], dtype=\"float32\")\n",
    "\n",
    "relations = np.array([[1,1], [0,1], [0,0],\n",
    "                      [1,0],[0,1], [0,0],\n",
    "                      [1,1],[0,0], [0,1],\n",
    "                      [0,0], [0,0], [0,0],\n",
    "                      [1,1], [0,0], [0,0]], dtype=\"float32\")"
   ]
  },
  {
   "cell_type": "code",
   "execution_count": 140,
   "metadata": {},
   "outputs": [],
   "source": [
    "inputs = torch.from_numpy(inputs)\n",
    "targets = torch.from_numpy(targets)\n",
    "training_dataset = TensorDataset(inputs, targets)\n",
    "batches = 5\n",
    "train_dl = DataLoader(training_dataset, batches, shuffle=True)\n"
   ]
  },
  {
   "cell_type": "code",
   "execution_count": 141,
   "metadata": {},
   "outputs": [
    {
     "name": "stdout",
     "output_type": "stream",
     "text": [
      "tensor([[ -9.8472,  55.5202],\n",
      "        [ -9.3988,  75.4434],\n",
      "        [-11.6646,  80.4879],\n",
      "        [-18.8455,  55.1750],\n",
      "        [ -1.7883,  74.4142],\n",
      "        [ -9.8472,  55.5202],\n",
      "        [ -9.3988,  75.4434],\n",
      "        [-11.6646,  80.4879],\n",
      "        [-18.8455,  55.1750],\n",
      "        [ -1.7883,  74.4142],\n",
      "        [ -9.8472,  55.5202],\n",
      "        [ -9.3988,  75.4434],\n",
      "        [-11.6646,  80.4879],\n",
      "        [-18.8455,  55.1750],\n",
      "        [ -1.7883,  74.4142]], grad_fn=<AddmmBackward>)\n"
     ]
    }
   ],
   "source": [
    "#inital predictions and loss of the function\n",
    "model = nn.Linear(3,2)\n",
    "\n",
    "preds = model(inputs)\n",
    "print(preds)\n",
    "\n",
    "mse = F.mse_loss\n",
    "\n",
    "loss = mse(preds, targets)\n"
   ]
  },
  {
   "cell_type": "code",
   "execution_count": 155,
   "metadata": {},
   "outputs": [],
   "source": [
    "#need a number of epochs, a model, a loss function, and a training dataloader\n",
    "def fit(num_epochs, model, loss_fn, train_dl):\n",
    "    for epoch in range(num_epochs):\n",
    "        #in 5 different batches, and it has 2 different tensors that are stored\n",
    "        for x,y in train_dl:\n",
    "            preds = model(x)\n",
    "            loss = mse(preds, y)\n",
    "            loss.backward()\n",
    "            with torch.no_grad():\n",
    "                model.weight -= model.weight.grad * 1e-5\n",
    "                model.bias -= model.bias.grad * 1e-5\n",
    "                model.weight.grad.zero_()\n",
    "                model.bias.grad.zero_()\n",
    "\n",
    "        if (epoch + 1) % 10 == 0:\n",
    "            print('Epoch [{}/{}], Loss: {:.4f}'.format(epoch+1, num_epochs, loss.item()))"
   ]
  },
  {
   "cell_type": "code",
   "execution_count": 156,
   "metadata": {},
   "outputs": [
    {
     "name": "stdout",
     "output_type": "stream",
     "text": [
      "Epoch [10/100], Loss: 0.7378\n",
      "Epoch [20/100], Loss: 0.5842\n",
      "Epoch [30/100], Loss: 0.6182\n",
      "Epoch [40/100], Loss: 0.4965\n",
      "Epoch [50/100], Loss: 0.4942\n",
      "Epoch [60/100], Loss: 0.6125\n",
      "Epoch [70/100], Loss: 0.6593\n",
      "Epoch [80/100], Loss: 0.5948\n",
      "Epoch [90/100], Loss: 0.6328\n",
      "Epoch [100/100], Loss: 0.6870\n"
     ]
    }
   ],
   "source": [
    "# fit(500, model, mse, train_dl)\n",
    "\n",
    "fit(100, model, mse, train_dl)"
   ]
  },
  {
   "cell_type": "code",
   "execution_count": 157,
   "metadata": {},
   "outputs": [],
   "source": [
    "def make_pred(temp, hum, rain):\n",
    "    #temperature - humidity - rainfall\n",
    "    pred = np.array([temp, hum, rain], dtype=\"float32\")\n",
    "    pred = torch.from_numpy(pred)\n",
    "    print(pred)\n",
    "    \n",
    "    preds = model(pred)\n",
    "    print(preds)\n",
    "    "
   ]
  },
  {
   "cell_type": "code",
   "execution_count": 158,
   "metadata": {},
   "outputs": [
    {
     "name": "stdout",
     "output_type": "stream",
     "text": [
      "tensor([73., 67., 43.])\n",
      "tensor([57.1828, 70.4109], grad_fn=<AddBackward0>)\n"
     ]
    }
   ],
   "source": [
    "make_pred(73,67,43)"
   ]
  },
  {
   "cell_type": "code",
   "execution_count": null,
   "metadata": {},
   "outputs": [],
   "source": []
  }
 ],
 "metadata": {
  "kernelspec": {
   "display_name": "Python 3",
   "language": "python",
   "name": "python3"
  },
  "language_info": {
   "codemirror_mode": {
    "name": "ipython",
    "version": 3
   },
   "file_extension": ".py",
   "mimetype": "text/x-python",
   "name": "python",
   "nbconvert_exporter": "python",
   "pygments_lexer": "ipython3",
   "version": "3.7.3"
  }
 },
 "nbformat": 4,
 "nbformat_minor": 2
}
