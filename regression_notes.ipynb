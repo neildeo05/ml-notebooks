{
 "cells": [
  {
   "cell_type": "code",
   "execution_count": null,
   "metadata": {},
   "outputs": [],
   "source": []
  },
  {
   "cell_type": "code",
   "execution_count": 1,
   "metadata": {},
   "outputs": [],
   "source": [
    "# from __future__ import print_function\n",
    "import torch\n",
    "import numpy as np"
   ]
  },
  {
   "cell_type": "code",
   "execution_count": 2,
   "metadata": {},
   "outputs": [
    {
     "name": "stdout",
     "output_type": "stream",
     "text": [
      "tensor([[0, 0, 0],\n",
      "        [0, 0, 0],\n",
      "        [0, 0, 0]], dtype=torch.int32)\n"
     ]
    }
   ],
   "source": [
    "#Lesson One - Tensors and Numpy Integrations\n",
    "'''An uninitialized matrix is declared,\n",
    "but does not contain definite known values before it is used.\n",
    "When an uninitialized matrix is created, whatever values were \n",
    "in the allocated memory at the time will appear as the initial values.'''\n",
    "\n",
    "#Uninitialized\n",
    "matrix = torch.empty(5,3)\n",
    "\n",
    "#Random\n",
    "matrix = torch.rand(5,3)\n",
    "# print(matrix)\n",
    "\n",
    "#np.zeros but contains a long\n",
    "\n",
    "x = torch.zeros(5,3, dtype=torch.long)\n",
    "# print(x)\n",
    "\n",
    "#create a tensor with manual data - set type equal to float\n",
    "x = torch.tensor([5.5,3], dtype = torch.float)\n",
    "# print(x)\n",
    "\n",
    "#create a tensor based on the previous tensor\n",
    "x = x.new_ones(3,3,dtype=torch.double)\n",
    "#fill the tensor with random doubles\n",
    "x = torch.randn_like(x, dtype=torch.double)\n",
    "#print size of array\n",
    "# x.size()\n",
    "#add two tensors of the same size\n",
    "y = torch.rand(3,3, dtype=torch.double)\n",
    "res = torch.empty(3,3)\n",
    "torch.add(x,y, out=res)\n",
    "#operation that mutates a tensor in place is post fixed with an _\n",
    "# res.copy_(y)\n",
    "\n",
    "#indexing\n",
    "# print(x)\n",
    "x[:,-1] #last column\n",
    "x = torch.rand(4,4)\n",
    "#resizing a tensor\n",
    "# (x.view(-1,8))\n",
    "\n",
    "#one element tensor\n",
    "# x = torch.randn(1)\n",
    "#prints the one item of the one element tensor\n",
    "# (x.item())\n",
    "\n",
    "#converting to a np array\n",
    "\n",
    "a = torch.zeros(3,3, dtype = torch.double)\n",
    "a.add_(2)\n",
    "b = a.numpy()\n",
    "\n",
    "#converting np array to torch tensor\n",
    "import numpy as np\n",
    "\n",
    "a = np.zeros((3,3))\n",
    "b = torch.from_numpy(a)\n",
    "print(b.to(torch.int))\n"
   ]
  },
  {
   "cell_type": "code",
   "execution_count": null,
   "metadata": {},
   "outputs": [],
   "source": []
  },
  {
   "cell_type": "code",
   "execution_count": null,
   "metadata": {},
   "outputs": [],
   "source": []
  },
  {
   "cell_type": "code",
   "execution_count": null,
   "metadata": {},
   "outputs": [],
   "source": []
  },
  {
   "cell_type": "code",
   "execution_count": 3,
   "metadata": {},
   "outputs": [],
   "source": [
    "# Lesson 2 - Linear Regression\n",
    "#predicting yields of apples and oranges depending on input variables/features\n",
    "\n",
    "#in linear regression - each target variable is estimated to be a weighted sum of the input variables, offset by some constant known as bias\n",
    "#usually it is just some weights multiplied by input variables, and a constant is added to it in case there is a\n",
    "#discrepancy in the training data\n",
    "\n",
    "import numpy as np\n",
    "import torch\n",
    "\n",
    "#Inputs (temperature, rainfall, humidity)\n",
    "\n",
    "inp = np.array([[73,67,43],\n",
    "                  [91,88,64],\n",
    "                  [87,134,58],\n",
    "                   [102,43,37],\n",
    "                  [69,96,70]], dtype='double')\n",
    "trg = np.array([[56,70],\n",
    "                  [81,101],\n",
    "                  [119,133],\n",
    "                   [22,37],\n",
    "                  [103,119]], dtype='double')\n",
    "#you can get a column by doing [:,0]\n",
    "#Targets (apples, oranges) inital data before the prediction\n",
    "# targets = np.array([[56,70],[81,101],[119,133],[22,37], [103,119]], dtype='double')\n",
    "inputs = torch.from_numpy(inp)\n",
    "targets = torch.from_numpy(trg)\n",
    "\n",
    "#we can create some random weights - but since there are three input types, (temp, rainfall, hum) we need three weights\n",
    "\n",
    "\n",
    "#weights are matrices, they are random for now\n",
    "weights = torch.randn((2,3), requires_grad=True, dtype=torch.double)\n",
    "\n",
    "#biases are vectors, they are random as well. They will be the constants we add to the weights and the inps\n",
    "biases = torch.randn((2), requires_grad=True, dtype=torch.double)\n"
   ]
  },
  {
   "cell_type": "code",
   "execution_count": 4,
   "metadata": {},
   "outputs": [
    {
     "name": "stdout",
     "output_type": "stream",
     "text": [
      "inital loss tensor(11349.1792, dtype=torch.float64, grad_fn=<DivBackward0>)\n"
     ]
    }
   ],
   "source": [
    "\n",
    "# print(x * y)\n",
    "\n",
    "# # @ gives the final value of a matrix multiplication set\n",
    "# print(x @ y)\n",
    "# print(weights.t())\n",
    "# print(inp)\n",
    "\n",
    "\n",
    "#structure of weights matrix = (inputs values, target values)\n",
    "\n",
    "def model(x):\n",
    "    return x @ weights.t() + biases \n",
    "predictions = model(inputs)\n",
    "\n",
    "def MSE(t1, t2):\n",
    "    #evaluate how well model is performing\n",
    "    diff = t1 - t2\n",
    "    diff_sqr = diff ** 2\n",
    "    #get the average of the squared matrix - sum of all values / len of matrix\n",
    "    #numel gets number of elements , or diff.size()[0] * diff.size()[1]\n",
    "    return torch.sum(diff_sqr) / torch.numel(diff_sqr)\n",
    "loss = MSE(predictions, targets)\n",
    "print(\"inital loss\", loss)\n",
    "#interpretation: On average, each of model's predictions is off by the sqrt of the loss(for example 255)\n",
    "#tells how much info it is losing - when random - very much loss\n",
    "\n",
    "\n",
    "#Loss is a quadratic function of the weights and biases\n",
    "#if you increase / decrease the weights too much then the loss will be too high \n",
    "\n",
    "\n",
    "#Positive Weights and Positive Gradient\n",
    "#make sure to decrease slightly, otherwise the loss will be bigger\n",
    "#increasing the elements value will increase the loss\n",
    "#However, if you decrease the element's value, then the loss will decrease\n",
    "\n",
    "#Positive Weights and Negative Gradient\n",
    "#make sure to decrease slightly, otherwise the loss will be bigger\n",
    "#increasing the element will decrease the loss\n",
    "#decreasing the elemnt will increase the loss\n",
    "\n"
   ]
  },
  {
   "cell_type": "code",
   "execution_count": 5,
   "metadata": {},
   "outputs": [
    {
     "name": "stdout",
     "output_type": "stream",
     "text": [
      "tensor([[ 69.0207, -42.5327],\n",
      "        [ 93.2807, -60.0189],\n",
      "        [132.2972, -54.8359],\n",
      "        [ 44.2360, -43.7068],\n",
      "        [103.5129, -60.2019]], dtype=torch.float64, grad_fn=<AddBackward0>)\n"
     ]
    }
   ],
   "source": [
    "preds = model(inputs)\n",
    "print(preds)"
   ]
  },
  {
   "cell_type": "code",
   "execution_count": 6,
   "metadata": {},
   "outputs": [
    {
     "name": "stdout",
     "output_type": "stream",
     "text": [
      "tensor(11349.1792, dtype=torch.float64, grad_fn=<DivBackward0>)\n"
     ]
    }
   ],
   "source": [
    "#as you can see, the loss has gone down by a little more than a 1000. This is becasue we are decreasing the value\n",
    "#of the weights decreases the value of the  \n",
    "preds = model(inputs)\n",
    "loss = MSE(preds, targets)\n",
    "print(loss)"
   ]
  },
  {
   "cell_type": "code",
   "execution_count": 7,
   "metadata": {},
   "outputs": [],
   "source": [
    "#train for 100 epochs (iterations)\n",
    "for i in range(100):\n",
    "    preds = model(inputs)\n",
    "    loss = MSE(preds, targets)\n",
    "    loss.backward()\n",
    "    with torch.no_grad():\n",
    "        weights -= weights.grad * 1e-4\n",
    "        biases -= biases.grad * 1e-4\n",
    "        weights.grad.zero_()\n",
    "        biases.grad.zero_()"
   ]
  },
  {
   "cell_type": "code",
   "execution_count": 8,
   "metadata": {},
   "outputs": [
    {
     "name": "stdout",
     "output_type": "stream",
     "text": [
      "tensor(12.0835, dtype=torch.float64, grad_fn=<DivBackward0>)\n",
      "tensor([[ 57.3270,  70.6136],\n",
      "        [ 81.0661,  97.5243],\n",
      "        [121.0280, 139.6220],\n",
      "        [ 21.7539,  38.9447],\n",
      "        [ 99.5722, 112.4383]], dtype=torch.float64, grad_fn=<AddBackward0>)\n",
      "tensor([[ 56.,  70.],\n",
      "        [ 81., 101.],\n",
      "        [119., 133.],\n",
      "        [ 22.,  37.],\n",
      "        [103., 119.]], dtype=torch.float64)\n"
     ]
    }
   ],
   "source": [
    "preds = model(inputs)\n",
    "loss = MSE(preds, targets)\n",
    "print(loss)\n",
    "print(preds)\n",
    "\n",
    "print(targets)"
   ]
  },
  {
   "cell_type": "code",
   "execution_count": 9,
   "metadata": {},
   "outputs": [],
   "source": [
    "#####################################"
   ]
  },
  {
   "cell_type": "code",
   "execution_count": 10,
   "metadata": {},
   "outputs": [],
   "source": [
    "#####################################"
   ]
  },
  {
   "cell_type": "code",
   "execution_count": 11,
   "metadata": {},
   "outputs": [],
   "source": [
    "#####################################"
   ]
  },
  {
   "cell_type": "code",
   "execution_count": 12,
   "metadata": {},
   "outputs": [],
   "source": [
    "#Pytorch Bultins\n",
    "\n",
    "import torch.nn as nn\n",
    "# Input (temp, rainfall, humidity)\n",
    "inputs = np.array([[73, 67, 43], [91, 88, 64], [87, 134, 58], \n",
    "                   [102, 43, 37], [69, 96, 70], [73, 67, 43], \n",
    "                   [91, 88, 64], [87, 134, 58], [102, 43, 37], \n",
    "                   [69, 96, 70], [73, 67, 43], [91, 88, 64], \n",
    "                   [87, 134, 58], [102, 43, 37], [69, 96, 70]], \n",
    "                  dtype='float32')\n",
    "\n",
    "# Targets (apples, oranges)\n",
    "targets = np.array([[56, 70], [81, 101], [119, 133], \n",
    "                    [22, 37], [103, 119], [56, 70], \n",
    "                    [81, 101], [119, 133], [22, 37], \n",
    "                    [103, 119], [56, 70], [81, 101], \n",
    "                    [119, 133], [22, 37], [103, 119]], \n",
    "                   dtype='float32')\n",
    "\n",
    "inputs = torch.from_numpy(inputs)\n",
    "targets = torch.from_numpy(targets)\n"
   ]
  },
  {
   "cell_type": "code",
   "execution_count": 13,
   "metadata": {},
   "outputs": [],
   "source": [
    "from torch.utils.data import TensorDataset\n",
    "\n",
    "#Puts the inputs and targets into a dataset, which is a tuple, so you can access a row on\n",
    "#both of the tensors\n",
    "train_ds = TensorDataset(inputs, targets)"
   ]
  },
  {
   "cell_type": "code",
   "execution_count": 14,
   "metadata": {},
   "outputs": [
    {
     "name": "stdout",
     "output_type": "stream",
     "text": [
      "(tensor([[ 73.,  67.,  43.],\n",
      "        [ 91.,  88.,  64.],\n",
      "        [ 87., 134.,  58.],\n",
      "        [102.,  43.,  37.],\n",
      "        [ 69.,  96.,  70.],\n",
      "        [ 73.,  67.,  43.],\n",
      "        [ 91.,  88.,  64.],\n",
      "        [ 87., 134.,  58.],\n",
      "        [102.,  43.,  37.],\n",
      "        [ 69.,  96.,  70.],\n",
      "        [ 73.,  67.,  43.],\n",
      "        [ 91.,  88.,  64.],\n",
      "        [ 87., 134.,  58.],\n",
      "        [102.,  43.,  37.]]), tensor([[ 56.,  70.],\n",
      "        [ 81., 101.],\n",
      "        [119., 133.],\n",
      "        [ 22.,  37.],\n",
      "        [103., 119.],\n",
      "        [ 56.,  70.],\n",
      "        [ 81., 101.],\n",
      "        [119., 133.],\n",
      "        [ 22.,  37.],\n",
      "        [103., 119.],\n",
      "        [ 56.,  70.],\n",
      "        [ 81., 101.],\n",
      "        [119., 133.],\n",
      "        [ 22.,  37.]]))\n"
     ]
    }
   ],
   "source": [
    "print(train_ds[0:-1])"
   ]
  },
  {
   "cell_type": "code",
   "execution_count": 15,
   "metadata": {},
   "outputs": [
    {
     "name": "stdout",
     "output_type": "stream",
     "text": [
      "tensor([[69., 96., 70.],\n",
      "        [91., 88., 64.],\n",
      "        [73., 67., 43.],\n",
      "        [73., 67., 43.],\n",
      "        [73., 67., 43.]]) tensor([[103., 119.],\n",
      "        [ 81., 101.],\n",
      "        [ 56.,  70.],\n",
      "        [ 56.,  70.],\n",
      "        [ 56.,  70.]])\n",
      "tensor([[ 69.,  96.,  70.],\n",
      "        [ 91.,  88.,  64.],\n",
      "        [ 87., 134.,  58.],\n",
      "        [ 91.,  88.,  64.],\n",
      "        [ 87., 134.,  58.]]) tensor([[103., 119.],\n",
      "        [ 81., 101.],\n",
      "        [119., 133.],\n",
      "        [ 81., 101.],\n",
      "        [119., 133.]])\n",
      "tensor([[ 69.,  96.,  70.],\n",
      "        [102.,  43.,  37.],\n",
      "        [102.,  43.,  37.],\n",
      "        [102.,  43.,  37.],\n",
      "        [ 87., 134.,  58.]]) tensor([[103., 119.],\n",
      "        [ 22.,  37.],\n",
      "        [ 22.,  37.],\n",
      "        [ 22.,  37.],\n",
      "        [119., 133.]])\n"
     ]
    }
   ],
   "source": [
    "#Put the data into batches of 5 rows - since there are 15 rows in total, there will be\n",
    "#3 tensors\n",
    "\n",
    "#Set shuffle to true to make sure that the data is shuffled to reduce bias\n",
    "from torch.utils.data import DataLoader\n",
    "batches =5\n",
    "train_dl = DataLoader(train_ds, batches, shuffle=True)\n",
    "\n",
    "for xb, yb in train_dl:\n",
    "    print(xb, yb)\n",
    "    \n"
   ]
  },
  {
   "cell_type": "code",
   "execution_count": 16,
   "metadata": {},
   "outputs": [
    {
     "name": "stdout",
     "output_type": "stream",
     "text": [
      "Parameter containing:\n",
      "tensor([[ 0.0154, -0.5239, -0.2772],\n",
      "        [-0.5478, -0.2083,  0.0369]], requires_grad=True)\n",
      "Parameter containing:\n",
      "tensor([-0.1143, -0.2009], requires_grad=True)\n"
     ]
    },
    {
     "data": {
      "text/plain": [
       "tensor(23116.1660, grad_fn=<MseLossBackward>)"
      ]
     },
     "execution_count": 16,
     "metadata": {},
     "output_type": "execute_result"
    }
   ],
   "source": [
    "#Instead of defining weights and biases manually - use nn.Linear\n",
    "\n",
    "\n",
    "#nn.Linear - applies linear transofmration to data : y = inp * weights.t() + bias\n",
    "#3 inputs - rain, hum, temp, 2 out, apple, orange\n",
    "model = nn.Linear(3,2)\n",
    "print(model.weight)\n",
    "print(model.bias)\n",
    "\n",
    "# print([i for i in model.parameters()]) \n",
    "\n",
    "\n",
    "\n",
    "preds = model(inputs)\n",
    "\n",
    "\n",
    "import torch.nn.functional as F\n",
    "\n",
    "mse = F.mse_loss\n",
    "\n",
    "loss = mse(preds, targets)\n",
    "\n",
    "loss\n"
   ]
  },
  {
   "cell_type": "code",
   "execution_count": 17,
   "metadata": {},
   "outputs": [],
   "source": [
    "#in order to do the optimization to reduce the loss, we can use a builtin called optim.SGD\n",
    "?torch.optim.SGD"
   ]
  },
  {
   "cell_type": "code",
   "execution_count": 18,
   "metadata": {},
   "outputs": [
    {
     "name": "stdout",
     "output_type": "stream",
     "text": [
      "[Parameter containing:\n",
      "tensor([[ 0.0154, -0.5239, -0.2772],\n",
      "        [-0.5478, -0.2083,  0.0369]], requires_grad=True), Parameter containing:\n",
      "tensor([-0.1143, -0.2009], requires_grad=True)]\n"
     ]
    },
    {
     "data": {
      "text/plain": [
       "SGD (\n",
       "Parameter Group 0\n",
       "    dampening: 0\n",
       "    lr: 1e-05\n",
       "    momentum: 0\n",
       "    nesterov: False\n",
       "    weight_decay: 0\n",
       ")"
      ]
     },
     "execution_count": 18,
     "metadata": {},
     "output_type": "execute_result"
    }
   ],
   "source": [
    "p = list(model.parameters())\n",
    "print(p)\n",
    "opt = torch.optim.SGD(model.parameters(), lr = 1e-5)\n",
    "\n",
    "#tell optimizer which matrices (inputs and targets) need to be optimized\n",
    "\n",
    "#specify a learning rate in, it will tell if the weights are pos or neg, then apply learning rate to optim data\n",
    "\n",
    "opt"
   ]
  },
  {
   "cell_type": "code",
   "execution_count": 19,
   "metadata": {},
   "outputs": [],
   "source": [
    "def fit(num_epochs,model, loss_fn, opt, train_dl):\n",
    "    for epoch in range(num_epochs):\n",
    "        #generate the predictions \n",
    "        for xb, yb in train_dl:\n",
    "            #define the initial predictions\n",
    "            preds = model(xb)\n",
    "            #define the loss\n",
    "            loss = mse(preds, yb)\n",
    "            #compute gradients \n",
    "            loss.backward()\n",
    "            #we are passing in the model of (model), which has 3 inputs and 2 outputs, and it has weights/biases\n",
    "            with torch.no_grad():\n",
    "                #since the weights and biases are negative, we have to add(or subtract cause both are neg)\n",
    "                #by a very small number, in this case 0.00001\n",
    "                model.weight -= model.weight.grad * 1e-5\n",
    "                model.bias -= model.bias.grad * 1e-5\n",
    "                model.weight.grad.zero_()\n",
    "                model.bias.grad.zero_()\n",
    "            \n",
    "        if (epoch+1) % 10 == 0:\n",
    "            print('Epoch [{}/{}], Loss: {:.4f}'.format(epoch+1, num_epochs, loss.item()))\n",
    "        "
   ]
  },
  {
   "cell_type": "code",
   "execution_count": 20,
   "metadata": {},
   "outputs": [
    {
     "name": "stdout",
     "output_type": "stream",
     "text": [
      "Epoch [10/100], Loss: 369.6480\n",
      "Epoch [20/100], Loss: 248.9354\n",
      "Epoch [30/100], Loss: 309.6746\n",
      "Epoch [40/100], Loss: 182.6380\n",
      "Epoch [50/100], Loss: 103.2225\n",
      "Epoch [60/100], Loss: 121.4383\n",
      "Epoch [70/100], Loss: 73.2113\n",
      "Epoch [80/100], Loss: 2.6640\n",
      "Epoch [90/100], Loss: 31.8753\n",
      "Epoch [100/100], Loss: 45.0634\n"
     ]
    }
   ],
   "source": [
    "fit(100, model, mse, opt, train_dl)"
   ]
  },
  {
   "cell_type": "code",
   "execution_count": 21,
   "metadata": {},
   "outputs": [
    {
     "data": {
      "text/plain": [
       "tensor([[ 58.9426,  71.1393],\n",
       "        [ 80.9405,  99.2091],\n",
       "        [118.9409, 135.0524],\n",
       "        [ 31.0943,  41.7417],\n",
       "        [ 93.8357, 113.7918],\n",
       "        [ 58.9426,  71.1393],\n",
       "        [ 80.9405,  99.2091],\n",
       "        [118.9409, 135.0524],\n",
       "        [ 31.0943,  41.7417],\n",
       "        [ 93.8357, 113.7918],\n",
       "        [ 58.9426,  71.1393],\n",
       "        [ 80.9405,  99.2091],\n",
       "        [118.9409, 135.0524],\n",
       "        [ 31.0943,  41.7417],\n",
       "        [ 93.8357, 113.7918]], grad_fn=<AddmmBackward>)"
      ]
     },
     "execution_count": 21,
     "metadata": {},
     "output_type": "execute_result"
    }
   ],
   "source": [
    "preds = model(inputs)\n",
    "preds"
   ]
  },
  {
   "cell_type": "code",
   "execution_count": 107,
   "metadata": {},
   "outputs": [
    {
     "data": {
      "text/plain": [
       "tensor([[ 56.,  70.],\n",
       "        [ 81., 101.],\n",
       "        [119., 133.],\n",
       "        [ 22.,  37.],\n",
       "        [103., 119.],\n",
       "        [ 56.,  70.],\n",
       "        [ 81., 101.],\n",
       "        [119., 133.],\n",
       "        [ 22.,  37.],\n",
       "        [103., 119.],\n",
       "        [ 56.,  70.],\n",
       "        [ 81., 101.],\n",
       "        [119., 133.],\n",
       "        [ 22.,  37.],\n",
       "        [103., 119.]])"
      ]
     },
     "execution_count": 107,
     "metadata": {},
     "output_type": "execute_result"
    }
   ],
   "source": [
    "targets"
   ]
  },
  {
   "cell_type": "code",
   "execution_count": 27,
   "metadata": {},
   "outputs": [
    {
     "ename": "TypeError",
     "evalue": "new() received an invalid combination of arguments - got (Tensor, Tensor), but expected one of:\n * (*, torch.device device)\n      didn't match because some of the arguments have invalid types: (\u001b[31;1mTensor\u001b[0m, \u001b[31;1mTensor\u001b[0m)\n * (torch.Storage storage)\n * (Tensor other)\n * (tuple of ints size, *, torch.device device)\n * (object data, *, torch.device device)\n",
     "output_type": "error",
     "traceback": [
      "\u001b[0;31m---------------------------------------------------------------------------\u001b[0m",
      "\u001b[0;31mTypeError\u001b[0m                                 Traceback (most recent call last)",
      "\u001b[0;32m<ipython-input-27-6f9cfb5a3d29>\u001b[0m in \u001b[0;36m<module>\u001b[0;34m\u001b[0m\n\u001b[1;32m     38\u001b[0m     \u001b[0mr\u001b[0m \u001b[0;34m=\u001b[0m \u001b[0mRegression\u001b[0m\u001b[0;34m(\u001b[0m\u001b[0minputs\u001b[0m\u001b[0;34m,\u001b[0m \u001b[0mtargets\u001b[0m\u001b[0;34m)\u001b[0m\u001b[0;34m\u001b[0m\u001b[0;34m\u001b[0m\u001b[0m\n\u001b[1;32m     39\u001b[0m     \u001b[0mr\u001b[0m\u001b[0;34m.\u001b[0m\u001b[0mmake_model\u001b[0m\u001b[0;34m(\u001b[0m\u001b[0;34m)\u001b[0m\u001b[0;34m\u001b[0m\u001b[0;34m\u001b[0m\u001b[0m\n\u001b[0;32m---> 40\u001b[0;31m \u001b[0mmain\u001b[0m\u001b[0;34m(\u001b[0m\u001b[0;34m)\u001b[0m\u001b[0;34m\u001b[0m\u001b[0;34m\u001b[0m\u001b[0m\n\u001b[0m",
      "\u001b[0;32m<ipython-input-27-6f9cfb5a3d29>\u001b[0m in \u001b[0;36mmain\u001b[0;34m()\u001b[0m\n\u001b[1;32m     37\u001b[0m     \u001b[0mtargets\u001b[0m \u001b[0;34m=\u001b[0m \u001b[0mtorch\u001b[0m\u001b[0;34m.\u001b[0m\u001b[0mfrom_numpy\u001b[0m\u001b[0;34m(\u001b[0m\u001b[0mtargets\u001b[0m\u001b[0;34m)\u001b[0m\u001b[0;34m\u001b[0m\u001b[0;34m\u001b[0m\u001b[0m\n\u001b[1;32m     38\u001b[0m     \u001b[0mr\u001b[0m \u001b[0;34m=\u001b[0m \u001b[0mRegression\u001b[0m\u001b[0;34m(\u001b[0m\u001b[0minputs\u001b[0m\u001b[0;34m,\u001b[0m \u001b[0mtargets\u001b[0m\u001b[0;34m)\u001b[0m\u001b[0;34m\u001b[0m\u001b[0;34m\u001b[0m\u001b[0m\n\u001b[0;32m---> 39\u001b[0;31m     \u001b[0mr\u001b[0m\u001b[0;34m.\u001b[0m\u001b[0mmake_model\u001b[0m\u001b[0;34m(\u001b[0m\u001b[0;34m)\u001b[0m\u001b[0;34m\u001b[0m\u001b[0;34m\u001b[0m\u001b[0m\n\u001b[0m\u001b[1;32m     40\u001b[0m \u001b[0mmain\u001b[0m\u001b[0;34m(\u001b[0m\u001b[0;34m)\u001b[0m\u001b[0;34m\u001b[0m\u001b[0;34m\u001b[0m\u001b[0m\n",
      "\u001b[0;32m<ipython-input-27-6f9cfb5a3d29>\u001b[0m in \u001b[0;36mmake_model\u001b[0;34m(self)\u001b[0m\n\u001b[1;32m     12\u001b[0m \u001b[0;34m\u001b[0m\u001b[0m\n\u001b[1;32m     13\u001b[0m     \u001b[0;32mdef\u001b[0m \u001b[0mmake_model\u001b[0m\u001b[0;34m(\u001b[0m\u001b[0mself\u001b[0m\u001b[0;34m)\u001b[0m\u001b[0;34m:\u001b[0m\u001b[0;34m\u001b[0m\u001b[0;34m\u001b[0m\u001b[0m\n\u001b[0;32m---> 14\u001b[0;31m         \u001b[0mself\u001b[0m\u001b[0;34m.\u001b[0m\u001b[0mmodel\u001b[0m \u001b[0;34m=\u001b[0m \u001b[0mnn\u001b[0m\u001b[0;34m.\u001b[0m\u001b[0mLinear\u001b[0m\u001b[0;34m(\u001b[0m\u001b[0mself\u001b[0m\u001b[0;34m.\u001b[0m\u001b[0minputs\u001b[0m\u001b[0;34m,\u001b[0m\u001b[0mself\u001b[0m\u001b[0;34m.\u001b[0m\u001b[0mtargets\u001b[0m\u001b[0;34m)\u001b[0m\u001b[0;34m\u001b[0m\u001b[0;34m\u001b[0m\u001b[0m\n\u001b[0m\u001b[1;32m     15\u001b[0m         \u001b[0mprint\u001b[0m\u001b[0;34m(\u001b[0m\u001b[0mmodel\u001b[0m\u001b[0;34m.\u001b[0m\u001b[0mweights\u001b[0m\u001b[0;34m)\u001b[0m\u001b[0;34m\u001b[0m\u001b[0;34m\u001b[0m\u001b[0m\n\u001b[1;32m     16\u001b[0m         \u001b[0mprint\u001b[0m\u001b[0;34m(\u001b[0m\u001b[0mmodel\u001b[0m\u001b[0;34m.\u001b[0m\u001b[0mbias\u001b[0m\u001b[0;34m)\u001b[0m\u001b[0;34m\u001b[0m\u001b[0;34m\u001b[0m\u001b[0m\n",
      "\u001b[0;32m~/anaconda3/lib/python3.7/site-packages/torch/nn/modules/linear.py\u001b[0m in \u001b[0;36m__init__\u001b[0;34m(self, in_features, out_features, bias)\u001b[0m\n\u001b[1;32m     70\u001b[0m         \u001b[0mself\u001b[0m\u001b[0;34m.\u001b[0m\u001b[0min_features\u001b[0m \u001b[0;34m=\u001b[0m \u001b[0min_features\u001b[0m\u001b[0;34m\u001b[0m\u001b[0;34m\u001b[0m\u001b[0m\n\u001b[1;32m     71\u001b[0m         \u001b[0mself\u001b[0m\u001b[0;34m.\u001b[0m\u001b[0mout_features\u001b[0m \u001b[0;34m=\u001b[0m \u001b[0mout_features\u001b[0m\u001b[0;34m\u001b[0m\u001b[0;34m\u001b[0m\u001b[0m\n\u001b[0;32m---> 72\u001b[0;31m         \u001b[0mself\u001b[0m\u001b[0;34m.\u001b[0m\u001b[0mweight\u001b[0m \u001b[0;34m=\u001b[0m \u001b[0mParameter\u001b[0m\u001b[0;34m(\u001b[0m\u001b[0mtorch\u001b[0m\u001b[0;34m.\u001b[0m\u001b[0mTensor\u001b[0m\u001b[0;34m(\u001b[0m\u001b[0mout_features\u001b[0m\u001b[0;34m,\u001b[0m \u001b[0min_features\u001b[0m\u001b[0;34m)\u001b[0m\u001b[0;34m)\u001b[0m\u001b[0;34m\u001b[0m\u001b[0;34m\u001b[0m\u001b[0m\n\u001b[0m\u001b[1;32m     73\u001b[0m         \u001b[0;32mif\u001b[0m \u001b[0mbias\u001b[0m\u001b[0;34m:\u001b[0m\u001b[0;34m\u001b[0m\u001b[0;34m\u001b[0m\u001b[0m\n\u001b[1;32m     74\u001b[0m             \u001b[0mself\u001b[0m\u001b[0;34m.\u001b[0m\u001b[0mbias\u001b[0m \u001b[0;34m=\u001b[0m \u001b[0mParameter\u001b[0m\u001b[0;34m(\u001b[0m\u001b[0mtorch\u001b[0m\u001b[0;34m.\u001b[0m\u001b[0mTensor\u001b[0m\u001b[0;34m(\u001b[0m\u001b[0mout_features\u001b[0m\u001b[0;34m)\u001b[0m\u001b[0;34m)\u001b[0m\u001b[0;34m\u001b[0m\u001b[0;34m\u001b[0m\u001b[0m\n",
      "\u001b[0;31mTypeError\u001b[0m: new() received an invalid combination of arguments - got (Tensor, Tensor), but expected one of:\n * (*, torch.device device)\n      didn't match because some of the arguments have invalid types: (\u001b[31;1mTensor\u001b[0m, \u001b[31;1mTensor\u001b[0m)\n * (torch.Storage storage)\n * (Tensor other)\n * (tuple of ints size, *, torch.device device)\n * (object data, *, torch.device device)\n"
     ]
    }
   ],
   "source": [
    "#Lets put it all together in one class!\n",
    "\n",
    "import torch.nn as NN\n",
    "import torch.nn.functional as F\n",
    "class Regression:\n",
    "    def __init__(self, inputs, targets):\n",
    "        #Weights and biases are part of the model - loss is going to be the output of the loss fn (inp, pred)\n",
    "        self.model = None\n",
    "        self.loss = None\n",
    "        self.inputs = inputs\n",
    "        self.targets = targets\n",
    "       \n",
    "    def make_model(self):\n",
    "        self.model = nn.Linear(self.inputs,self.targets)\n",
    "        print(model.weights)\n",
    "        print(model.bias)\n",
    "        \n",
    "        \n",
    "        \n",
    "def main():\n",
    "    inputs = np.array([[73, 67, 43], [91, 88, 64], [87, 134, 58], \n",
    "                       [102, 43, 37], [69, 96, 70], [73, 67, 43], \n",
    "                       [91, 88, 64], [87, 134, 58], [102, 43, 37], \n",
    "                       [69, 96, 70], [73, 67, 43], [91, 88, 64], \n",
    "                       [87, 134, 58], [102, 43, 37], [69, 96, 70]], \n",
    "                      dtype='float32')\n",
    "\n",
    "    # Targets (apples, oranges)\n",
    "    targets = np.array([[56, 70], [81, 101], [119, 133], \n",
    "                        [22, 37], [103, 119], [56, 70], \n",
    "                        [81, 101], [119, 133], [22, 37], \n",
    "                        [103, 119], [56, 70], [81, 101], \n",
    "                        [119, 133], [22, 37], [103, 119]], \n",
    "                       dtype='float32')\n",
    "\n",
    "    inputs = torch.from_numpy(inputs)\n",
    "    targets = torch.from_numpy(targets)\n",
    "    r = Regression(inputs, targets)\n",
    "    r.make_model()\n",
    "main()"
   ]
  },
  {
   "cell_type": "code",
   "execution_count": null,
   "metadata": {},
   "outputs": [],
   "source": []
  }
 ],
 "metadata": {
  "kernelspec": {
   "display_name": "Python 3",
   "language": "python",
   "name": "python3"
  },
  "language_info": {
   "codemirror_mode": {
    "name": "ipython",
    "version": 3
   },
   "file_extension": ".py",
   "mimetype": "text/x-python",
   "name": "python",
   "nbconvert_exporter": "python",
   "pygments_lexer": "ipython3",
   "version": "3.7.3"
  }
 },
 "nbformat": 4,
 "nbformat_minor": 2
}
