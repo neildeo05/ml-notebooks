{
  "nbformat": 4,
  "nbformat_minor": 0,
  "metadata": {
    "colab": {
      "name": "ClintonNewsNetwork.ipynb",
      "provenance": [],
      "authorship_tag": "ABX9TyP1uwpxyVfWu+Gdgl35IFzn"
    },
    "kernelspec": {
      "name": "python3",
      "display_name": "Python 3"
    }
  },
  "cells": [
    {
      "cell_type": "code",
      "metadata": {
        "id": "5NZZ4V5zn_tB",
        "colab_type": "code",
        "colab": {}
      },
      "source": [
        "#Feed forward neural network - the input is \n",
        "#CIFAR10 is a database of 60000 32*32 pixel colour images in 10 classes. we can classify the with the model\n",
        "\n",
        "import os\n",
        "import torch\n",
        "import torchvision\n",
        "import tarfile\n",
        "from torchvision.datasets.utils import download_url\n",
        "\n",
        "from torchvision.datasets import ImageFolder\n",
        "from torchvision.transforms import ToTensor"
      ],
      "execution_count": 22,
      "outputs": []
    },
    {
      "cell_type": "code",
      "metadata": {
        "id": "p0iQQ0ONDqEQ",
        "colab_type": "code",
        "colab": {
          "base_uri": "https://localhost:8080/",
          "height": 34
        },
        "outputId": "1077fcca-5b01-4fb7-a5fc-be854f349410"
      },
      "source": [
        "dataset_url = \"http://files.fast.ai/data/cifar10.tgz\"\n",
        "\n",
        "download_url(dataset_url, '.')"
      ],
      "execution_count": 23,
      "outputs": [
        {
          "output_type": "stream",
          "text": [
            "Using downloaded and verified file: ./cifar10.tgz\n"
          ],
          "name": "stdout"
        }
      ]
    },
    {
      "cell_type": "code",
      "metadata": {
        "id": "XRu7U1auEU41",
        "colab_type": "code",
        "colab": {
          "base_uri": "https://localhost:8080/",
          "height": 341
        },
        "outputId": "69aa356b-7982-4008-923e-9dd148d092b3"
      },
      "source": [
        "#r:gz is for reading a file that has gzip compression\n",
        "with tarfile.open('./cifar10.tgz', 'r:gz') as tar:\n",
        "    tar.extractall(path=\"./data\")"
      ],
      "execution_count": 24,
      "outputs": [
        {
          "output_type": "error",
          "ename": "KeyboardInterrupt",
          "evalue": "ignored",
          "traceback": [
            "\u001b[0;31m---------------------------------------------------------------------------\u001b[0m",
            "\u001b[0;31mKeyboardInterrupt\u001b[0m                         Traceback (most recent call last)",
            "\u001b[0;32m<ipython-input-24-030c330f7e71>\u001b[0m in \u001b[0;36m<module>\u001b[0;34m()\u001b[0m\n\u001b[1;32m      1\u001b[0m \u001b[0;31m#r:gz is for reading a file that has gzip compression\u001b[0m\u001b[0;34m\u001b[0m\u001b[0;34m\u001b[0m\u001b[0;34m\u001b[0m\u001b[0m\n\u001b[1;32m      2\u001b[0m \u001b[0;32mwith\u001b[0m \u001b[0mtarfile\u001b[0m\u001b[0;34m.\u001b[0m\u001b[0mopen\u001b[0m\u001b[0;34m(\u001b[0m\u001b[0;34m'./cifar10.tgz'\u001b[0m\u001b[0;34m,\u001b[0m \u001b[0;34m'r:gz'\u001b[0m\u001b[0;34m)\u001b[0m \u001b[0;32mas\u001b[0m \u001b[0mtar\u001b[0m\u001b[0;34m:\u001b[0m\u001b[0;34m\u001b[0m\u001b[0;34m\u001b[0m\u001b[0m\n\u001b[0;32m----> 3\u001b[0;31m     \u001b[0mtar\u001b[0m\u001b[0;34m.\u001b[0m\u001b[0mextractall\u001b[0m\u001b[0;34m(\u001b[0m\u001b[0mpath\u001b[0m\u001b[0;34m=\u001b[0m\u001b[0;34m\"./data\"\u001b[0m\u001b[0;34m)\u001b[0m\u001b[0;34m\u001b[0m\u001b[0;34m\u001b[0m\u001b[0m\n\u001b[0m",
            "\u001b[0;32m/usr/lib/python3.6/tarfile.py\u001b[0m in \u001b[0;36mextractall\u001b[0;34m(self, path, members, numeric_owner)\u001b[0m\n\u001b[1;32m   2008\u001b[0m             \u001b[0;31m# Do not set_attrs directories, as we will do that further down\u001b[0m\u001b[0;34m\u001b[0m\u001b[0;34m\u001b[0m\u001b[0;34m\u001b[0m\u001b[0m\n\u001b[1;32m   2009\u001b[0m             self.extract(tarinfo, path, set_attrs=not tarinfo.isdir(),\n\u001b[0;32m-> 2010\u001b[0;31m                          numeric_owner=numeric_owner)\n\u001b[0m\u001b[1;32m   2011\u001b[0m \u001b[0;34m\u001b[0m\u001b[0m\n\u001b[1;32m   2012\u001b[0m         \u001b[0;31m# Reverse sort directories.\u001b[0m\u001b[0;34m\u001b[0m\u001b[0;34m\u001b[0m\u001b[0;34m\u001b[0m\u001b[0m\n",
            "\u001b[0;32m/usr/lib/python3.6/tarfile.py\u001b[0m in \u001b[0;36mextract\u001b[0;34m(self, member, path, set_attrs, numeric_owner)\u001b[0m\n\u001b[1;32m   2050\u001b[0m             self._extract_member(tarinfo, os.path.join(path, tarinfo.name),\n\u001b[1;32m   2051\u001b[0m                                  \u001b[0mset_attrs\u001b[0m\u001b[0;34m=\u001b[0m\u001b[0mset_attrs\u001b[0m\u001b[0;34m,\u001b[0m\u001b[0;34m\u001b[0m\u001b[0;34m\u001b[0m\u001b[0m\n\u001b[0;32m-> 2052\u001b[0;31m                                  numeric_owner=numeric_owner)\n\u001b[0m\u001b[1;32m   2053\u001b[0m         \u001b[0;32mexcept\u001b[0m \u001b[0mOSError\u001b[0m \u001b[0;32mas\u001b[0m \u001b[0me\u001b[0m\u001b[0;34m:\u001b[0m\u001b[0;34m\u001b[0m\u001b[0;34m\u001b[0m\u001b[0m\n\u001b[1;32m   2054\u001b[0m             \u001b[0;32mif\u001b[0m \u001b[0mself\u001b[0m\u001b[0;34m.\u001b[0m\u001b[0merrorlevel\u001b[0m \u001b[0;34m>\u001b[0m \u001b[0;36m0\u001b[0m\u001b[0;34m:\u001b[0m\u001b[0;34m\u001b[0m\u001b[0;34m\u001b[0m\u001b[0m\n",
            "\u001b[0;32m/usr/lib/python3.6/tarfile.py\u001b[0m in \u001b[0;36m_extract_member\u001b[0;34m(self, tarinfo, targetpath, set_attrs, numeric_owner)\u001b[0m\n\u001b[1;32m   2120\u001b[0m \u001b[0;34m\u001b[0m\u001b[0m\n\u001b[1;32m   2121\u001b[0m         \u001b[0;32mif\u001b[0m \u001b[0mtarinfo\u001b[0m\u001b[0;34m.\u001b[0m\u001b[0misreg\u001b[0m\u001b[0;34m(\u001b[0m\u001b[0;34m)\u001b[0m\u001b[0;34m:\u001b[0m\u001b[0;34m\u001b[0m\u001b[0;34m\u001b[0m\u001b[0m\n\u001b[0;32m-> 2122\u001b[0;31m             \u001b[0mself\u001b[0m\u001b[0;34m.\u001b[0m\u001b[0mmakefile\u001b[0m\u001b[0;34m(\u001b[0m\u001b[0mtarinfo\u001b[0m\u001b[0;34m,\u001b[0m \u001b[0mtargetpath\u001b[0m\u001b[0;34m)\u001b[0m\u001b[0;34m\u001b[0m\u001b[0;34m\u001b[0m\u001b[0m\n\u001b[0m\u001b[1;32m   2123\u001b[0m         \u001b[0;32melif\u001b[0m \u001b[0mtarinfo\u001b[0m\u001b[0;34m.\u001b[0m\u001b[0misdir\u001b[0m\u001b[0;34m(\u001b[0m\u001b[0;34m)\u001b[0m\u001b[0;34m:\u001b[0m\u001b[0;34m\u001b[0m\u001b[0;34m\u001b[0m\u001b[0m\n\u001b[1;32m   2124\u001b[0m             \u001b[0mself\u001b[0m\u001b[0;34m.\u001b[0m\u001b[0mmakedir\u001b[0m\u001b[0;34m(\u001b[0m\u001b[0mtarinfo\u001b[0m\u001b[0;34m,\u001b[0m \u001b[0mtargetpath\u001b[0m\u001b[0;34m)\u001b[0m\u001b[0;34m\u001b[0m\u001b[0;34m\u001b[0m\u001b[0m\n",
            "\u001b[0;32m/usr/lib/python3.6/tarfile.py\u001b[0m in \u001b[0;36mmakefile\u001b[0;34m(self, tarinfo, targetpath)\u001b[0m\n\u001b[1;32m   2169\u001b[0m                 \u001b[0mtarget\u001b[0m\u001b[0;34m.\u001b[0m\u001b[0mtruncate\u001b[0m\u001b[0;34m(\u001b[0m\u001b[0;34m)\u001b[0m\u001b[0;34m\u001b[0m\u001b[0;34m\u001b[0m\u001b[0m\n\u001b[1;32m   2170\u001b[0m             \u001b[0;32melse\u001b[0m\u001b[0;34m:\u001b[0m\u001b[0;34m\u001b[0m\u001b[0;34m\u001b[0m\u001b[0m\n\u001b[0;32m-> 2171\u001b[0;31m                 \u001b[0mcopyfileobj\u001b[0m\u001b[0;34m(\u001b[0m\u001b[0msource\u001b[0m\u001b[0;34m,\u001b[0m \u001b[0mtarget\u001b[0m\u001b[0;34m,\u001b[0m \u001b[0mtarinfo\u001b[0m\u001b[0;34m.\u001b[0m\u001b[0msize\u001b[0m\u001b[0;34m,\u001b[0m \u001b[0mReadError\u001b[0m\u001b[0;34m,\u001b[0m \u001b[0mbufsize\u001b[0m\u001b[0;34m)\u001b[0m\u001b[0;34m\u001b[0m\u001b[0;34m\u001b[0m\u001b[0m\n\u001b[0m\u001b[1;32m   2172\u001b[0m \u001b[0;34m\u001b[0m\u001b[0m\n\u001b[1;32m   2173\u001b[0m     \u001b[0;32mdef\u001b[0m \u001b[0mmakeunknown\u001b[0m\u001b[0;34m(\u001b[0m\u001b[0mself\u001b[0m\u001b[0;34m,\u001b[0m \u001b[0mtarinfo\u001b[0m\u001b[0;34m,\u001b[0m \u001b[0mtargetpath\u001b[0m\u001b[0;34m)\u001b[0m\u001b[0;34m:\u001b[0m\u001b[0;34m\u001b[0m\u001b[0;34m\u001b[0m\u001b[0m\n",
            "\u001b[0;31mKeyboardInterrupt\u001b[0m: "
          ]
        }
      ]
    },
    {
      "cell_type": "code",
      "metadata": {
        "id": "Orr81CRFdZXu",
        "colab_type": "code",
        "colab": {}
      },
      "source": [
        "data_dir = \"./data/cifar10\"\n",
        "#training dataset\n",
        "classes = (os.listdir(data_dir+\"/train\"))\n",
        "\n",
        "len(os.listdir(data_dir + \"/train\" + \"/airplane\"))\n",
        "\n",
        "root = data_dir + \"/train\"\n",
        "dataset = ImageFolder(root, transform=ToTensor())\n",
        "\n",
        "\n",
        "\n"
      ],
      "execution_count": 25,
      "outputs": []
    },
    {
      "cell_type": "code",
      "metadata": {
        "id": "cx-B4CZtgrSh",
        "colab_type": "code",
        "colab": {
          "base_uri": "https://localhost:8080/",
          "height": 408
        },
        "outputId": "27351741-bcad-4a80-9d41-59b5ff949f6d"
      },
      "source": [
        "print(dataset[1])"
      ],
      "execution_count": 26,
      "outputs": [
        {
          "output_type": "stream",
          "text": [
            "(tensor([[[0.4510, 0.4627, 0.4745,  ..., 0.5412, 0.5294, 0.5333],\n",
            "         [0.4627, 0.4706, 0.4784,  ..., 0.5490, 0.5412, 0.5373],\n",
            "         [0.4784, 0.4784, 0.4863,  ..., 0.5608, 0.5490, 0.5451],\n",
            "         ...,\n",
            "         [0.4235, 0.4157, 0.4118,  ..., 0.4078, 0.3333, 0.2431],\n",
            "         [0.3961, 0.3882, 0.3882,  ..., 0.3804, 0.2824, 0.2314],\n",
            "         [0.3765, 0.3804, 0.3882,  ..., 0.3294, 0.2667, 0.2431]],\n",
            "\n",
            "        [[0.5412, 0.5529, 0.5647,  ..., 0.6235, 0.6157, 0.6157],\n",
            "         [0.5529, 0.5608, 0.5686,  ..., 0.6314, 0.6235, 0.6235],\n",
            "         [0.5686, 0.5686, 0.5765,  ..., 0.6431, 0.6314, 0.6314],\n",
            "         ...,\n",
            "         [0.3843, 0.3765, 0.3725,  ..., 0.3843, 0.3098, 0.2314],\n",
            "         [0.3569, 0.3490, 0.3490,  ..., 0.3569, 0.2627, 0.2235],\n",
            "         [0.3373, 0.3412, 0.3490,  ..., 0.3137, 0.2588, 0.2392]],\n",
            "\n",
            "        [[0.7490, 0.7569, 0.7686,  ..., 0.7922, 0.7843, 0.7922],\n",
            "         [0.7569, 0.7647, 0.7725,  ..., 0.8000, 0.7922, 0.8000],\n",
            "         [0.7725, 0.7725, 0.7804,  ..., 0.8118, 0.8039, 0.8078],\n",
            "         ...,\n",
            "         [0.4275, 0.4196, 0.4157,  ..., 0.4235, 0.3490, 0.2745],\n",
            "         [0.4000, 0.3922, 0.3922,  ..., 0.3961, 0.2980, 0.2667],\n",
            "         [0.3804, 0.3843, 0.3922,  ..., 0.3569, 0.3020, 0.2745]]]), 0)\n"
          ],
          "name": "stdout"
        }
      ]
    },
    {
      "cell_type": "code",
      "metadata": {
        "id": "brICDU751V_l",
        "colab_type": "code",
        "colab": {}
      },
      "source": [
        "img, label = dataset[15000]\n"
      ],
      "execution_count": 55,
      "outputs": []
    },
    {
      "cell_type": "code",
      "metadata": {
        "id": "sdXI4SHSBvqr",
        "colab_type": "code",
        "colab": {
          "base_uri": "https://localhost:8080/",
          "height": 51
        },
        "outputId": "4d06fa9c-06b5-43f5-f677-50bece38f4c7"
      },
      "source": [
        "print(img.size())\n",
        "\n",
        "#the size is 3 tensors, 32 * 32\n",
        "\n",
        "pltable = img.permute(1,2,0)\n",
        "\n",
        "print(pltable.size())"
      ],
      "execution_count": 96,
      "outputs": [
        {
          "output_type": "stream",
          "text": [
            "torch.Size([3, 32, 32])\n",
            "torch.Size([32, 32, 3])\n"
          ],
          "name": "stdout"
        }
      ]
    },
    {
      "cell_type": "code",
      "metadata": {
        "id": "Fj5wFIBsB8Je",
        "colab_type": "code",
        "colab": {
          "base_uri": "https://localhost:8080/",
          "height": 34
        },
        "outputId": "1dd22ce7-69ec-4f97-fb07-7e6cb58909d1"
      },
      "source": [
        "print(dir(dataset).index('classes'))"
      ],
      "execution_count": 57,
      "outputs": [
        {
          "output_type": "stream",
          "text": [
            "33\n"
          ],
          "name": "stdout"
        }
      ]
    },
    {
      "cell_type": "code",
      "metadata": {
        "id": "7Rev6u6OCSeD",
        "colab_type": "code",
        "colab": {
          "base_uri": "https://localhost:8080/",
          "height": 34
        },
        "outputId": "ea30ebba-95ba-42e3-dec8-465a6b5718bb"
      },
      "source": [
        "print((dataset.classes))"
      ],
      "execution_count": 74,
      "outputs": [
        {
          "output_type": "stream",
          "text": [
            "['airplane', 'automobile', 'bird', 'cat', 'deer', 'dog', 'frog', 'horse', 'ship', 'truck']\n"
          ],
          "name": "stdout"
        }
      ]
    },
    {
      "cell_type": "code",
      "metadata": {
        "id": "oyw99oDJCZEe",
        "colab_type": "code",
        "colab": {
          "base_uri": "https://localhost:8080/",
          "height": 300
        },
        "outputId": "ff3f5dcf-480a-45b9-d06b-598de5801f1e"
      },
      "source": [
        "import matplotlib.pyplot as plt\n",
        "\n",
        "#as you can see, that is in fact an airplane, which is the first class of the cifar10 dataset \n",
        "\n",
        "\n",
        "#what this does exactly is move the first dimension to the 0th position, the 2nd dimension to the first position, and the 0th dimension to the 3rd position\n",
        "\n",
        "\n",
        "#matplotlib probably ignores the last dimension of the tensor, so moving the 0th dimension, or 3, cause there are 3 different color channels, we are \n",
        "#moving that the last one\n",
        "print(img.permute(1,2,0).size())\n",
        "plt.imshow(img.permute(1,2,0))"
      ],
      "execution_count": 99,
      "outputs": [
        {
          "output_type": "stream",
          "text": [
            "torch.Size([32, 32, 3])\n"
          ],
          "name": "stdout"
        },
        {
          "output_type": "execute_result",
          "data": {
            "text/plain": [
              "<matplotlib.image.AxesImage at 0x7f17f7af3898>"
            ]
          },
          "metadata": {
            "tags": []
          },
          "execution_count": 99
        },
        {
          "output_type": "display_data",
          "data": {
            "image/png": "[encoded data removed]",
            "text/plain": [
              "<Figure size 432x288 with 1 Axes>"
            ]
          },
          "metadata": {
            "tags": [],
            "needs_background": "light"
          }
        }
      ]
    },
    {
      "cell_type": "code",
      "metadata": {
        "id": "oSXcpKQrCwQU",
        "colab_type": "code",
        "colab": {
          "base_uri": "https://localhost:8080/",
          "height": 697
        },
        "outputId": "469bad2d-bd6c-4dc4-b2e4-6388427d507c"
      },
      "source": [
        "#2 tensors 3 rows and 5 columns\n",
        "x = torch.randn(10, 3, 5)\n",
        "print(x)\n",
        "x.size()\n",
        "x.permute(1, 0, 2).size()\n",
        "\n",
        "\n",
        "#it is swapping the things around\n"
      ],
      "execution_count": 90,
      "outputs": [
        {
          "output_type": "stream",
          "text": [
            "tensor([[[ 0.1070,  2.0363, -0.1051, -1.3302, -0.6050],\n",
            "         [-1.2252, -0.3386, -0.6633, -0.4906,  0.6667],\n",
            "         [-0.2552, -0.0304,  1.2973, -0.6906, -1.2587]],\n",
            "\n",
            "        [[-0.7036, -1.3365, -0.3177,  1.9002, -0.3011],\n",
            "         [ 2.2365,  1.5135,  0.9743, -1.4309,  0.5745],\n",
            "         [ 0.7363, -0.1393, -0.4009, -0.1346,  0.5411]],\n",
            "\n",
            "        [[-1.7752, -0.2956, -0.7546, -1.6060,  0.4920],\n",
            "         [-0.0163,  0.0534, -0.1118,  2.1007,  2.0375],\n",
            "         [-0.5693, -1.4004, -1.0073, -1.9408, -1.4045]],\n",
            "\n",
            "        [[-0.7265,  0.8418,  0.8825,  0.2571, -0.2327],\n",
            "         [-0.5130, -0.5543, -0.3609,  0.3143,  0.6011],\n",
            "         [-1.3194, -0.4992, -2.4124,  0.4275, -1.2361]],\n",
            "\n",
            "        [[-0.1215, -0.3543,  0.1057, -0.1772, -0.1092],\n",
            "         [-1.0098, -0.2108, -0.0412,  0.0025, -0.0658],\n",
            "         [-1.1968, -0.1898,  0.6582, -0.3436,  0.6978]],\n",
            "\n",
            "        [[ 0.5441,  0.4024,  1.0126,  0.4773,  0.4635],\n",
            "         [-0.8293,  0.7687, -1.0137,  0.1606,  1.7354],\n",
            "         [-0.1037, -0.1169, -0.1975,  0.3610,  0.1347]],\n",
            "\n",
            "        [[ 1.3372, -0.9326,  0.9404, -0.0943, -0.9002],\n",
            "         [ 0.1066, -0.4081, -0.5300, -1.5041, -0.7392],\n",
            "         [ 0.5425, -0.6121,  1.4603,  0.0287, -0.2180]],\n",
            "\n",
            "        [[-0.7147,  0.0724, -0.1648,  0.9757,  0.5682],\n",
            "         [-0.0498,  0.8483, -0.9770, -0.7050,  0.8179],\n",
            "         [-0.2997,  0.7752, -0.0464, -0.2437, -1.1728]],\n",
            "\n",
            "        [[-1.9923,  0.3036,  0.3495,  1.4348,  1.1103],\n",
            "         [-0.1486, -0.6765, -0.8541,  0.4497, -0.2932],\n",
            "         [-1.5970,  0.4341,  0.6754, -1.1674,  0.6175]],\n",
            "\n",
            "        [[ 0.4149, -0.0364, -0.4991,  1.9720,  0.3690],\n",
            "         [ 0.7002,  0.3430, -0.6809,  1.0746, -2.0261],\n",
            "         [-0.9693, -0.6904,  1.0113,  0.9588, -1.0462]]])\n"
          ],
          "name": "stdout"
        },
        {
          "output_type": "execute_result",
          "data": {
            "text/plain": [
              "torch.Size([3, 10, 5])"
            ]
          },
          "metadata": {
            "tags": []
          },
          "execution_count": 90
        }
      ]
    },
    {
      "cell_type": "code",
      "metadata": {
        "id": "GIr3gnauDwWn",
        "colab_type": "code",
        "colab": {}
      },
      "source": [
        ""
      ],
      "execution_count": null,
      "outputs": []
    }
  ]
}