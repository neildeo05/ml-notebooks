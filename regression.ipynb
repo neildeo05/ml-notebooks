{
 "cells": [
  {
   "cell_type": "code",
   "execution_count": 16,
   "metadata": {},
   "outputs": [
    {
     "name": "stderr",
     "output_type": "stream",
     "text": [
      "UsageError: %%javascript is a cell magic, but the cell body is empty.\n"
     ]
    }
   ],
   "source": [
    "%%javascript\n",
    "\n",
    "Jupyter.keyboard_manager.command_shortcuts.remove_shortcut();\n"
   ]
  },
  {
   "cell_type": "code",
   "execution_count": 1,
   "metadata": {},
   "outputs": [],
   "source": [
    "# from __future__ import print_function\n",
    "import torch\n",
    "import numpy as np"
   ]
  },
  {
   "cell_type": "code",
   "execution_count": 2,
   "metadata": {},
   "outputs": [
    {
     "name": "stdout",
     "output_type": "stream",
     "text": [
      "tensor([[0, 0, 0],\n",
      "        [0, 0, 0],\n",
      "        [0, 0, 0]], dtype=torch.int32)\n"
     ]
    }
   ],
   "source": [
    "#Lesson One - Tensors and Numpy Integrations\n",
    "'''An uninitialized matrix is declared,\n",
    "but does not contain definite known values before it is used.\n",
    "When an uninitialized matrix is created, whatever values were \n",
    "in the allocated memory at the time will appear as the initial values.'''\n",
    "\n",
    "#Uninitialized\n",
    "matrix = torch.empty(5,3)\n",
    "\n",
    "#Random\n",
    "matrix = torch.rand(5,3)\n",
    "# print(matrix)\n",
    "\n",
    "#np.zeros but contains a long\n",
    "\n",
    "x = torch.zeros(5,3, dtype=torch.long)\n",
    "# print(x)\n",
    "\n",
    "#create a tensor with manual data - set type equal to float\n",
    "x = torch.tensor([5.5,3], dtype = torch.float)\n",
    "# print(x)\n",
    "\n",
    "#create a tensor based on the previous tensor\n",
    "x = x.new_ones(3,3,dtype=torch.double)\n",
    "#fill the tensor with random doubles\n",
    "x = torch.randn_like(x, dtype=torch.double)\n",
    "#print size of array\n",
    "# x.size()\n",
    "#add two tensors of the same size\n",
    "y = torch.rand(3,3, dtype=torch.double)\n",
    "res = torch.empty(3,3)\n",
    "torch.add(x,y, out=res)\n",
    "#operation that mutates a tensor in place is post fixed with an _\n",
    "# res.copy_(y)\n",
    "\n",
    "#indexing\n",
    "# print(x)\n",
    "x[:,-1] #last column\n",
    "x = torch.rand(4,4)\n",
    "#resizing a tensor\n",
    "# (x.view(-1,8))\n",
    "\n",
    "#one element tensor\n",
    "# x = torch.randn(1)\n",
    "#prints the one item of the one element tensor\n",
    "# (x.item())\n",
    "\n",
    "#converting to a np array\n",
    "\n",
    "a = torch.zeros(3,3, dtype = torch.double)\n",
    "a.add_(2)\n",
    "b = a.numpy()\n",
    "\n",
    "#converting np array to torch tensor\n",
    "import numpy as np\n",
    "\n",
    "a = np.zeros((3,3))\n",
    "b = torch.from_numpy(a)\n",
    "print(b.to(torch.int))\n"
   ]
  },
  {
   "cell_type": "code",
   "execution_count": null,
   "metadata": {},
   "outputs": [],
   "source": []
  },
  {
   "cell_type": "code",
   "execution_count": null,
   "metadata": {},
   "outputs": [],
   "source": []
  },
  {
   "cell_type": "code",
   "execution_count": null,
   "metadata": {},
   "outputs": [],
   "source": []
  },
  {
   "cell_type": "code",
   "execution_count": 3,
   "metadata": {},
   "outputs": [],
   "source": [
    "# Lesson 2 - Linear Regression\n",
    "#predicting yields of apples and oranges depending on input variables/features\n",
    "\n",
    "#in linear regression - each target variable is estimated to be a weighted sum of the input variables, offset by some constant known as bias\n",
    "#usually it is just some weights multiplied by input variables, and a constant is added to it in case there is a\n",
    "#discrepancy in the training data\n",
    "\n",
    "import numpy as np\n",
    "import torch\n",
    "\n",
    "#Inputs (temperature, rainfall, humidity)\n",
    "\n",
    "inp = np.array([[73,67,43],\n",
    "                  [91,88,64],\n",
    "                  [87,134,58],\n",
    "                   [102,43,37],\n",
    "                  [69,96,70]], dtype='double')\n",
    "trg = np.array([[56,70],\n",
    "                  [81,101],\n",
    "                  [119,133],\n",
    "                   [22,37],\n",
    "                  [103,119]], dtype='double')\n",
    "#you can get a column by doing [:,0]\n",
    "#Targets (apples, oranges) inital data before the prediction\n",
    "# targets = np.array([[56,70],[81,101],[119,133],[22,37], [103,119]], dtype='double')\n",
    "inputs = torch.from_numpy(inp)\n",
    "targets = torch.from_numpy(trg)\n",
    "\n",
    "#we can create some random weights - but since there are three input types, (temp, rainfall, hum) we need three weights\n",
    "\n",
    "\n",
    "#weights are matrices, they are random for now\n",
    "weights = torch.randn((2,3), requires_grad=True, dtype=torch.double)\n",
    "\n",
    "#biases are vectors, they are random as well. They will be the constants we add to the weights and the inps\n",
    "biases = torch.randn((2), requires_grad=True, dtype=torch.double)\n"
   ]
  },
  {
   "cell_type": "code",
   "execution_count": 4,
   "metadata": {},
   "outputs": [
    {
     "name": "stdout",
     "output_type": "stream",
     "text": [
      "inital loss tensor(47612.5194, dtype=torch.float64, grad_fn=<DivBackward0>)\n"
     ]
    }
   ],
   "source": [
    "\n",
    "# print(x * y)\n",
    "\n",
    "# # @ gives the final value of a matrix multiplication set\n",
    "# print(x @ y)\n",
    "# print(weights.t())\n",
    "# print(inp)\n",
    "\n",
    "\n",
    "#structure of weights matrix = (inputs values, target values)\n",
    "\n",
    "def model(x):\n",
    "    return x @ weights.t() + biases \n",
    "predictions = model(inputs)\n",
    "\n",
    "def MSE(t1, t2):\n",
    "    #evaluate how well model is performing\n",
    "    diff = t1 - t2\n",
    "    diff_sqr = diff ** 2\n",
    "    #get the average of the squared matrix - sum of all values / len of matrix\n",
    "    #numel gets number of elements , or diff.size()[0] * diff.size()[1]\n",
    "    return torch.sum(diff_sqr) / torch.numel(diff_sqr)\n",
    "loss = MSE(predictions, targets)\n",
    "print(\"inital loss\", loss)\n",
    "#interpretation: On average, each of model's predictions is off by the sqrt of the loss(for example 255)\n",
    "#tells how much info it is losing - when random - very much loss\n",
    "\n",
    "\n",
    "#Loss is a quadratic function of the weights and biases\n",
    "#if you increase / decrease the weights too much then the loss will be too high \n",
    "\n",
    "\n",
    "#Positive Weights and Positive Gradient\n",
    "#make sure to decrease slightly, otherwise the loss will be bigger\n",
    "#increasing the elements value will increase the loss\n",
    "#However, if you decrease the element's value, then the loss will decrease\n",
    "\n",
    "#Positive Weights and Negative Gradient\n",
    "#make sure to decrease slightly, otherwise the loss will be bigger\n",
    "#increasing the element will decrease the loss\n",
    "#decreasing the elemnt will increase the loss\n",
    "\n"
   ]
  },
  {
   "cell_type": "code",
   "execution_count": 5,
   "metadata": {},
   "outputs": [
    {
     "name": "stdout",
     "output_type": "stream",
     "text": [
      "tensor([[   4.6090, -160.3206],\n",
      "        [  16.9816, -215.1945],\n",
      "        [  -6.6134, -251.7279],\n",
      "        [  -3.1366, -148.4543],\n",
      "        [  28.5253, -215.6540]], dtype=torch.float64, grad_fn=<AddBackward0>)\n"
     ]
    }
   ],
   "source": [
    "preds = model(inputs)\n",
    "print(preds)"
   ]
  },
  {
   "cell_type": "code",
   "execution_count": 6,
   "metadata": {},
   "outputs": [
    {
     "name": "stdout",
     "output_type": "stream",
     "text": [
      "tensor(47612.5194, dtype=torch.float64, grad_fn=<DivBackward0>)\n"
     ]
    }
   ],
   "source": [
    "#as you can see, the loss has gone down by a little more than a 1000. This is becasue we are decreasing the value\n",
    "#of the weights decreases the value of the  \n",
    "preds = model(inputs)\n",
    "loss = MSE(preds, targets)\n",
    "print(loss)"
   ]
  },
  {
   "cell_type": "code",
   "execution_count": 7,
   "metadata": {},
   "outputs": [],
   "source": [
    "#train for 100 epochs (iterations)\n",
    "for i in range(100):\n",
    "    preds = model(inputs)\n",
    "    loss = MSE(preds, targets)\n",
    "    loss.backward()\n",
    "    with torch.no_grad():\n",
    "        weights -= weights.grad * 1e-4\n",
    "        biases -= biases.grad * 1e-4\n",
    "        weights.grad.zero_()\n",
    "        biases.grad.zero_()"
   ]
  },
  {
   "cell_type": "code",
   "execution_count": 8,
   "metadata": {},
   "outputs": [
    {
     "name": "stdout",
     "output_type": "stream",
     "text": [
      "tensor(15.3505, dtype=torch.float64, grad_fn=<DivBackward0>)\n",
      "tensor([[ 56.8843,  70.4573],\n",
      "        [ 84.6912,  97.8697],\n",
      "        [113.4946, 139.0853],\n",
      "        [ 19.6876,  38.8303],\n",
      "        [107.0619, 112.9540]], dtype=torch.float64, grad_fn=<AddBackward0>)\n",
      "tensor([[ 56.,  70.],\n",
      "        [ 81., 101.],\n",
      "        [119., 133.],\n",
      "        [ 22.,  37.],\n",
      "        [103., 119.]], dtype=torch.float64)\n"
     ]
    }
   ],
   "source": [
    "preds = model(inputs)\n",
    "loss = MSE(preds, targets)\n",
    "print(loss)\n",
    "print(preds)\n",
    "\n",
    "print(targets)"
   ]
  },
  {
   "cell_type": "code",
   "execution_count": 9,
   "metadata": {},
   "outputs": [],
   "source": [
    "#####################################"
   ]
  },
  {
   "cell_type": "code",
   "execution_count": 10,
   "metadata": {},
   "outputs": [],
   "source": [
    "#####################################"
   ]
  },
  {
   "cell_type": "code",
   "execution_count": 11,
   "metadata": {},
   "outputs": [],
   "source": [
    "#####################################"
   ]
  },
  {
   "cell_type": "code",
   "execution_count": 12,
   "metadata": {},
   "outputs": [],
   "source": [
    "#Pytorch Bultins\n",
    "\n",
    "import torch.nn as nn\n",
    "# Input (temp, rainfall, humidity)\n",
    "inputs = np.array([[73, 67, 43], [91, 88, 64], [87, 134, 58], \n",
    "                   [102, 43, 37], [69, 96, 70], [73, 67, 43], \n",
    "                   [91, 88, 64], [87, 134, 58], [102, 43, 37], \n",
    "                   [69, 96, 70], [73, 67, 43], [91, 88, 64], \n",
    "                   [87, 134, 58], [102, 43, 37], [69, 96, 70]], \n",
    "                  dtype='float32')\n",
    "\n",
    "# Targets (apples, oranges)\n",
    "targets = np.array([[56, 70], [81, 101], [119, 133], \n",
    "                    [22, 37], [103, 119], [56, 70], \n",
    "                    [81, 101], [119, 133], [22, 37], \n",
    "                    [103, 119], [56, 70], [81, 101], \n",
    "                    [119, 133], [22, 37], [103, 119]], \n",
    "                   dtype='float32')\n",
    "\n",
    "inputs = torch.from_numpy(inputs)\n",
    "targets = torch.from_numpy(targets)\n"
   ]
  },
  {
   "cell_type": "code",
   "execution_count": 13,
   "metadata": {},
   "outputs": [],
   "source": [
    "from torch.utils.data import TensorDataset\n",
    "\n",
    "#Puts the inputs and targets into a dataset, which is a tuple, so you can access a row on\n",
    "#both of the tensors\n",
    "train_ds = TensorDataset(inputs, targets)"
   ]
  },
  {
   "cell_type": "code",
   "execution_count": 14,
   "metadata": {},
   "outputs": [
    {
     "name": "stdout",
     "output_type": "stream",
     "text": [
      "(tensor([[ 73.,  67.,  43.],\n",
      "        [ 91.,  88.,  64.],\n",
      "        [ 87., 134.,  58.],\n",
      "        [102.,  43.,  37.],\n",
      "        [ 69.,  96.,  70.],\n",
      "        [ 73.,  67.,  43.],\n",
      "        [ 91.,  88.,  64.],\n",
      "        [ 87., 134.,  58.],\n",
      "        [102.,  43.,  37.],\n",
      "        [ 69.,  96.,  70.],\n",
      "        [ 73.,  67.,  43.],\n",
      "        [ 91.,  88.,  64.],\n",
      "        [ 87., 134.,  58.],\n",
      "        [102.,  43.,  37.]]), tensor([[ 56.,  70.],\n",
      "        [ 81., 101.],\n",
      "        [119., 133.],\n",
      "        [ 22.,  37.],\n",
      "        [103., 119.],\n",
      "        [ 56.,  70.],\n",
      "        [ 81., 101.],\n",
      "        [119., 133.],\n",
      "        [ 22.,  37.],\n",
      "        [103., 119.],\n",
      "        [ 56.,  70.],\n",
      "        [ 81., 101.],\n",
      "        [119., 133.],\n",
      "        [ 22.,  37.]]))\n"
     ]
    }
   ],
   "source": [
    "print(train_ds[0:-1])"
   ]
  },
  {
   "cell_type": "code",
   "execution_count": 103,
   "metadata": {},
   "outputs": [
    {
     "name": "stdout",
     "output_type": "stream",
     "text": [
      "tensor([[102.,  43.,  37.],\n",
      "        [ 87., 134.,  58.],\n",
      "        [ 73.,  67.,  43.],\n",
      "        [ 69.,  96.,  70.],\n",
      "        [ 91.,  88.,  64.]]) tensor([[103., 119.],\n",
      "        [ 56.,  70.],\n",
      "        [ 22.,  37.],\n",
      "        [ 22.,  37.],\n",
      "        [ 81., 101.]])\n",
      "tensor([[ 87., 134.,  58.],\n",
      "        [ 73.,  67.,  43.],\n",
      "        [ 69.,  96.,  70.],\n",
      "        [102.,  43.,  37.],\n",
      "        [102.,  43.,  37.]]) tensor([[103., 119.],\n",
      "        [ 56.,  70.],\n",
      "        [ 22.,  37.],\n",
      "        [ 22.,  37.],\n",
      "        [ 81., 101.]])\n",
      "tensor([[ 69.,  96.,  70.],\n",
      "        [ 91.,  88.,  64.],\n",
      "        [ 91.,  88.,  64.],\n",
      "        [ 73.,  67.,  43.],\n",
      "        [ 87., 134.,  58.]]) tensor([[103., 119.],\n",
      "        [ 56.,  70.],\n",
      "        [ 22.,  37.],\n",
      "        [ 22.,  37.],\n",
      "        [ 81., 101.]])\n"
     ]
    }
   ],
   "source": [
    "#Put the data into batches of 5 rows - since there are 15 rows in total, there will be\n",
    "#3 tensors\n",
    "\n",
    "#Set shuffle to true to make sure that the data is shuffled to reduce bias\n",
    "from torch.utils.data import DataLoader\n",
    "batches =5\n",
    "train_dl = DataLoader(train_ds, batches, shuffle=True)\n",
    "\n",
    "for xb, yb in train_dl:\n",
    "    print(xb, xy)\n",
    "    \n"
   ]
  },
  {
   "cell_type": "code",
   "execution_count": 15,
   "metadata": {},
   "outputs": [
    {
     "name": "stdout",
     "output_type": "stream",
     "text": [
      "tensor([[29.2165, 16.2630],\n",
      "        [40.1878, 24.6573],\n",
      "        [62.4422,  4.2066],\n",
      "        [12.2143, 27.6613],\n",
      "        [48.2969, 20.4202],\n",
      "        [29.2165, 16.2630],\n",
      "        [40.1878, 24.6573],\n",
      "        [62.4422,  4.2066],\n",
      "        [12.2143, 27.6613],\n",
      "        [48.2969, 20.4202],\n",
      "        [29.2165, 16.2630],\n",
      "        [40.1878, 24.6573],\n",
      "        [62.4422,  4.2066],\n",
      "        [12.2143, 27.6613],\n",
      "        [48.2969, 20.4202]], grad_fn=<AddmmBackward>)\n"
     ]
    }
   ],
   "source": [
    "#Instead of defining weights and biases manually - use nn.Linear\n",
    "\n",
    "#3 inputs - rain, hum, temp, 2 out, apple, orange\n",
    "model = nn.Linear(3,2)\n",
    "# print(model.weight)\n",
    "# print(model.bias)\n",
    "\n",
    "# print([i for i in model.parameters()]) \n",
    "\n",
    "\n",
    "#generate predictions with our \"model\" the Linear model is meant for regression\n",
    "\n",
    "preds = model(inputs)\n",
    "print(preds)"
   ]
  },
  {
   "cell_type": "code",
   "execution_count": null,
   "metadata": {},
   "outputs": [],
   "source": []
  },
  {
   "cell_type": "code",
   "execution_count": null,
   "metadata": {},
   "outputs": [],
   "source": []
  }
 ],
 "metadata": {
  "kernelspec": {
   "display_name": "Python 3",
   "language": "python",
   "name": "python3"
  },
  "language_info": {
   "codemirror_mode": {
    "name": "ipython",
    "version": 3
   },
   "file_extension": ".py",
   "mimetype": "text/x-python",
   "name": "python",
   "nbconvert_exporter": "python",
   "pygments_lexer": "ipython3",
   "version": "3.7.3"
  }
 },
 "nbformat": 4,
 "nbformat_minor": 2
}
