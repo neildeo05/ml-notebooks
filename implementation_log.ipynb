{
 "cells": [
  {
   "cell_type": "code",
   "execution_count": 61,
   "metadata": {},
   "outputs": [],
   "source": [
    "#linear regression is a supervised regression model, but logistic regression is a supervised classification model\n",
    "#predicting the value of a certain image - classifying it based on training data\n",
    "\n",
    "import torch\n",
    "#The torchvision package consists of popular datasets, model architectures, and common image transformations \n",
    "#for computer vision.\n",
    "import torchvision\n",
    "#import the MNIST dataset, which has all of the images - very popular, like the iris dataset\n",
    "from torchvision.datasets import MNIST\n",
    "import numpy\n",
    "import torchvision.transforms as transforms\n",
    "import numpy as np\n",
    "\n",
    "from torch.utils.data.dataloader import DataLoader\n",
    "from torch.utils.data.sampler import SubsetRandomSampler\n",
    "import torch.nn as nn\n",
    "import torch.nn.functional as F\n",
    "\n",
    "import matplotlib.pyplot as plt"
   ]
  },
  {
   "cell_type": "code",
   "execution_count": 62,
   "metadata": {},
   "outputs": [],
   "source": [
    "#training set and testing set\n",
    "dataset = MNIST(root=\"data/\", train=True, transform = transforms.ToTensor())\n",
    "test_dataset = MNIST(root=\"data/\", train=False, transform = transforms.ToTensor())"
   ]
  },
  {
   "cell_type": "code",
   "execution_count": 63,
   "metadata": {},
   "outputs": [
    {
     "name": "stdout",
     "output_type": "stream",
     "text": [
      "Dataset MNIST\n",
      "    Number of datapoints: 60000\n",
      "    Root location: data/\n",
      "    Split: Train\n",
      "    StandardTransform\n",
      "Transform: ToTensor()\n",
      "Dataset MNIST\n",
      "    Number of datapoints: 10000\n",
      "    Root location: data/\n",
      "    Split: Test\n",
      "    StandardTransform\n",
      "Transform: ToTensor()\n"
     ]
    }
   ],
   "source": [
    "print(dataset)\n",
    "print(test_dataset)"
   ]
  },
  {
   "cell_type": "code",
   "execution_count": 64,
   "metadata": {},
   "outputs": [
    {
     "name": "stdout",
     "output_type": "stream",
     "text": [
      "12000\n"
     ]
    }
   ],
   "source": [
    "#validation set\n",
    "perms = (np.random.permutation(len(dataset)))\n",
    "san_per = 0.2\n",
    "indices = int(len(dataset)*san_per)\n",
    "print(indices)\n",
    "train_indices = perms[indices:]\n",
    "val_indices = perms[:indices]"
   ]
  },
  {
   "cell_type": "code",
   "execution_count": 65,
   "metadata": {},
   "outputs": [],
   "source": [
    "#training dataloader\n",
    "train_sampler = SubsetRandomSampler(train_indices)\n",
    "train_dl = DataLoader(dataset, 100, sampler=train_sampler)"
   ]
  },
  {
   "cell_type": "code",
   "execution_count": 66,
   "metadata": {},
   "outputs": [],
   "source": [
    "#validation dataloader\n",
    "val_sampler = SubsetRandomSampler(val_indices)\n",
    "val_dl = DataLoader(dataset, 100, sampler=val_sampler)"
   ]
  },
  {
   "cell_type": "code",
   "execution_count": 67,
   "metadata": {},
   "outputs": [],
   "source": [
    "#model\n",
    "\n",
    "#the forward function just computes the outputs based on the inputs, or xb in this case\n",
    "class MnistModel(nn.Module):\n",
    "    def __init__(self):\n",
    "        super().__init__()\n",
    "        #the reason for these inputs and outputs are because we want to flatten out the image, and then also \n",
    "        #the outputs are for the probabilites of the item being from 0 - 9\n",
    "        self.linear = nn.Linear(28*28, 10)\n",
    "        \n",
    "    def forward(self,xb):\n",
    "        xb = xb.reshape(-1, 784)\n",
    "        out = self.linear(xb)\n",
    "        return out\n",
    "        "
   ]
  },
  {
   "cell_type": "code",
   "execution_count": 68,
   "metadata": {},
   "outputs": [],
   "source": [
    "model = MnistModel()\n",
    "\n",
    "#does softmax on its own, so the items can be changed to probabilities\n",
    "loss_fn = F.cross_entropy\n"
   ]
  },
  {
   "cell_type": "code",
   "execution_count": 83,
   "metadata": {},
   "outputs": [],
   "source": [
    "optimizer = torch.optim.SGD(model.parameters(), 1e-5)\n"
   ]
  },
  {
   "cell_type": "code",
   "execution_count": 84,
   "metadata": {},
   "outputs": [],
   "source": [
    "def loss_on_batch(loss_fn, model, xb, yb, opt):\n",
    "    outputs = model(xb)\n",
    "    loss = loss_fn(outputs, yb)\n",
    "    \n",
    "    loss.backward()\n",
    "    opt.step()\n",
    "    opt.zero_grad()\n",
    "    \n",
    "    "
   ]
  },
  {
   "cell_type": "code",
   "execution_count": 85,
   "metadata": {},
   "outputs": [],
   "source": [
    "#model training\n",
    "def train(epochs, loss_fn, model,opt, train_dl):\n",
    "    for epoch in range(epochs):\n",
    "        for xb, yb in train_dl:\n",
    "            loss_on_batch(loss_fn, model, xb, yb, opt)"
   ]
  },
  {
   "cell_type": "code",
   "execution_count": 86,
   "metadata": {},
   "outputs": [],
   "source": [
    "train(5, loss_fn, model, optimizer, train_dl)"
   ]
  },
  {
   "cell_type": "code",
   "execution_count": 87,
   "metadata": {},
   "outputs": [],
   "source": [
    "def accuracy(outputs, labels):\n",
    "    probs, preds = torch.max(outputs, dim=1)\n",
    "    return torch.sum(preds == labels).item()/len(labels)\n"
   ]
  },
  {
   "cell_type": "code",
   "execution_count": 88,
   "metadata": {
    "scrolled": true
   },
   "outputs": [
    {
     "name": "stdout",
     "output_type": "stream",
     "text": [
      "0.91\n",
      "0.89\n",
      "0.9\n",
      "0.86\n",
      "0.93\n",
      "0.91\n",
      "0.87\n",
      "0.89\n",
      "0.92\n",
      "0.85\n",
      "0.89\n",
      "0.93\n",
      "0.91\n",
      "0.93\n",
      "0.88\n",
      "0.92\n",
      "0.88\n",
      "0.86\n",
      "0.81\n",
      "0.89\n",
      "0.88\n",
      "0.9\n",
      "0.91\n",
      "0.9\n",
      "0.9\n",
      "0.9\n",
      "0.89\n",
      "0.83\n",
      "0.86\n",
      "0.96\n",
      "0.88\n",
      "0.92\n",
      "0.95\n",
      "0.87\n",
      "0.91\n",
      "0.94\n",
      "0.84\n",
      "0.9\n",
      "0.84\n",
      "0.87\n",
      "0.93\n",
      "0.9\n",
      "0.84\n",
      "0.92\n",
      "0.91\n",
      "0.94\n",
      "0.93\n",
      "0.92\n",
      "0.96\n",
      "0.93\n",
      "0.92\n",
      "0.91\n",
      "0.91\n",
      "0.91\n",
      "0.93\n",
      "0.96\n",
      "0.93\n",
      "0.91\n",
      "0.86\n",
      "0.88\n",
      "0.92\n",
      "0.96\n",
      "0.92\n",
      "0.89\n",
      "0.87\n",
      "0.94\n",
      "0.88\n",
      "0.87\n",
      "0.88\n",
      "0.95\n",
      "0.88\n",
      "0.91\n",
      "0.93\n",
      "0.87\n",
      "0.91\n",
      "0.93\n",
      "0.92\n",
      "0.91\n",
      "0.91\n",
      "0.88\n",
      "0.93\n",
      "0.88\n",
      "0.86\n",
      "0.92\n",
      "0.85\n",
      "0.9\n",
      "0.86\n",
      "0.91\n",
      "0.91\n",
      "0.87\n",
      "0.93\n",
      "0.92\n",
      "0.9\n",
      "0.95\n",
      "0.86\n",
      "0.94\n",
      "0.9\n",
      "0.87\n",
      "0.9\n",
      "0.95\n",
      "0.9\n",
      "0.89\n",
      "0.91\n",
      "0.96\n",
      "0.93\n",
      "0.91\n",
      "0.87\n",
      "0.92\n",
      "0.85\n",
      "0.89\n",
      "0.89\n",
      "0.89\n",
      "0.92\n",
      "0.9\n",
      "0.9\n",
      "0.93\n",
      "0.86\n",
      "0.9\n",
      "0.91\n",
      "0.93\n",
      "0.9015000000000005\n"
     ]
    }
   ],
   "source": [
    "avg_acc = []\n",
    "def validate(valid_dl, model):\n",
    "    for xb, yb in valid_dl:\n",
    "        preds = model(xb)\n",
    "        print(accuracy(preds, yb))\n",
    "        avg_acc.append(accuracy(preds,yb))\n",
    "    \n",
    "    return sum(avg_acc)/len(avg_acc)\n",
    "\n",
    "#after running the model through the validation dataset, this was the average accuracy\n",
    "print(validate(val_dl, model))"
   ]
  },
  {
   "cell_type": "code",
   "execution_count": 75,
   "metadata": {},
   "outputs": [],
   "source": [
    "test_dataset = MNIST(root = 'data/', train = False, transform = transforms.ToTensor())\n",
    "def predict_image(img, model, label):\n",
    "    xb = img.unsqueeze(0)\n",
    "    yb = model(xb)\n",
    "    prob, preds = torch.max(yb, dim = 1 )\n",
    "    \n",
    "    print(label)\n",
    "    print(preds[0].item())\n",
    "\n"
   ]
  },
  {
   "cell_type": "code",
   "execution_count": 76,
   "metadata": {},
   "outputs": [
    {
     "name": "stdout",
     "output_type": "stream",
     "text": [
      "9\n",
      "9\n"
     ]
    },
    {
     "data": {
      "text/plain": [
       "<matplotlib.image.AxesImage at 0x128bc10f0>"
      ]
     },
     "execution_count": 76,
     "metadata": {},
     "output_type": "execute_result"
    },
    {
     "data": {
      "image/png": "[encoded data removed]",
      "text/plain": [
       "<Figure size 432x288 with 1 Axes>"
      ]
     },
     "metadata": {
      "needs_background": "light"
     },
     "output_type": "display_data"
    }
   ],
   "source": [
    "x = 20\n",
    "predict_image(test_dataset[x][0], model, test_dataset[x][1])\n",
    "\n",
    "ten, lab = test_dataset[x]\n",
    "\n",
    "plt.imshow(ten[0],cmap='gray')"
   ]
  },
  {
   "cell_type": "code",
   "execution_count": null,
   "metadata": {},
   "outputs": [],
   "source": [
    "#WOW! changing the lr to 1e-2 made a difference"
   ]
  }
 ],
 "metadata": {
  "kernelspec": {
   "display_name": "Python 3",
   "language": "python",
   "name": "python3"
  },
  "language_info": {
   "codemirror_mode": {
    "name": "ipython",
    "version": 3
   },
   "file_extension": ".py",
   "mimetype": "text/x-python",
   "name": "python",
   "nbconvert_exporter": "python",
   "pygments_lexer": "ipython3",
   "version": "3.7.3"
  }
 },
 "nbformat": 4,
 "nbformat_minor": 2
}
