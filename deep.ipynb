{
 "cells": [
  {
   "cell_type": "code",
   "execution_count": 1,
   "metadata": {},
   "outputs": [],
   "source": [
    "#training deep neural networks on gpu if you have a gpu but if you dont then on cpu"
   ]
  },
  {
   "cell_type": "code",
   "execution_count": 2,
   "metadata": {},
   "outputs": [],
   "source": [
    "import torch\n",
    "import numpy as np\n",
    "import torchvision\n",
    "import torch.nn as nn\n",
    "from torchvision.datasets import MNIST, FakeData\n",
    "from torchvision.transforms import ToTensor\n",
    "from torch.utils.data.sampler import SubsetRandomSampler\n",
    "from torch.utils.data.dataloader import DataLoader\n",
    "import matplotlib.pyplot as plt\n",
    "import torch.nn.functional as F"
   ]
  },
  {
   "cell_type": "code",
   "execution_count": 3,
   "metadata": {},
   "outputs": [],
   "source": [
    "#download dataset, but i already have it downloaded\n",
    "dataset = MNIST(root='data/', train=True, transform=ToTensor())\n"
   ]
  },
  {
   "cell_type": "code",
   "execution_count": 4,
   "metadata": {},
   "outputs": [],
   "source": [
    "#validation set\n",
    "\n",
    "def split_indices(n, val_pct):\n",
    "    pct_gone = int(n*val_pct)\n",
    "    print(pct_gone)\n",
    "    idxs = np.random.permutation(n)\n",
    "    #so from 12,000 images to the end - we set the training dataset to those random permutations\n",
    "    return idxs[pct_gone:], idxs[:pct_gone]"
   ]
  },
  {
   "cell_type": "code",
   "execution_count": 5,
   "metadata": {},
   "outputs": [
    {
     "name": "stdout",
     "output_type": "stream",
     "text": [
      "12000\n"
     ]
    }
   ],
   "source": [
    "train_indices, val_indices = split_indices(len(dataset), 0.2)"
   ]
  },
  {
   "cell_type": "code",
   "execution_count": 6,
   "metadata": {},
   "outputs": [],
   "source": [
    "img, label = dataset[0]"
   ]
  },
  {
   "cell_type": "code",
   "execution_count": 7,
   "metadata": {},
   "outputs": [
    {
     "data": {
      "text/plain": [
       "<matplotlib.image.AxesImage at 0x120d75518>"
      ]
     },
     "execution_count": 7,
     "metadata": {},
     "output_type": "execute_result"
    },
    {
     "data": {
      "image/png": "[encoded data removed]",
      "text/plain": [
       "<Figure size 432x288 with 1 Axes>"
      ]
     },
     "metadata": {
      "needs_background": "light"
     },
     "output_type": "display_data"
    }
   ],
   "source": [
    "plt.imshow(img[0], cmap='gray')"
   ]
  },
  {
   "cell_type": "code",
   "execution_count": 8,
   "metadata": {},
   "outputs": [],
   "source": [
    "#we will randomize the position of the data, in order to lessen the biases\n",
    "#we will create batches out of the indices that are specified below\n",
    "train_sampler = SubsetRandomSampler(train_indices)\n",
    "train_loader = DataLoader(dataset, 100, sampler=train_sampler)"
   ]
  },
  {
   "cell_type": "code",
   "execution_count": 9,
   "metadata": {},
   "outputs": [],
   "source": [
    "#we will create batches out of the indices that are specified below\n",
    "#it will do a random shuffle opf the data, gradient descent works better when you randomize the data\n",
    "\n",
    "#we need a validation set to test the model on data that it hasn't seen, and then you can tweak the hyperparams\n",
    "val_sampler = SubsetRandomSampler(val_indices)\n",
    "val_loader = DataLoader(dataset, 100, sampler=val_sampler)"
   ]
  },
  {
   "cell_type": "code",
   "execution_count": 10,
   "metadata": {},
   "outputs": [],
   "source": [
    "#nn.Linear takes inputs and outputs, creates weights and biases, bases of linear and logistic regression\n",
    "#you need to flatten it out to a vector of size 784\n",
    "#the outputs are the probabilites of the numbers being the correct prediction"
   ]
  },
  {
   "cell_type": "code",
   "execution_count": 11,
   "metadata": {},
   "outputs": [],
   "source": [
    "#Now, in the deep learning neural network we are creating: \n",
    "    #we will use 2 nn.Linear objects. Each one acts as a hidden layer inside the model\n",
    "    #the first layer, nn.Linear, wil transform the input matrix, which has already been reshaped to batch * 784\n",
    "        #to now it will be batch * hidden_size, which hidden_size is a preconfigured parameter, like 32 or 64\n",
    "        \n",
    "    #the intermediate outputs of the layer are passed on to the activation function, which operates on individual\n",
    "    #elements of the output vector\n",
    "    \n",
    "    #The result of the activation function is then passed on to the second layer:\n",
    "        #The second layer transforms the output into batch_size * 10, identical to the logistic regression model\n",
    "        \n",
    "#differences between this and logistic regression:\n",
    "    #logistic regression model takes in an image, and uses something called cross_entropy to caclulate the loss\n",
    "    #which is then put back into the model in order to optimize the function. The forward function, which is re\n",
    "    #-sponsible for outputting the alterations it does to the inputs in order for the data to be used to calc-\n",
    "    #-ulate the gradients, reshapes the data into -1,784 (-1 is kinda a placeholder), and then it returns the \n",
    "    #nn.linear model with the correct input and output layer\n",
    "    #cross entropy does its own softmax in order to convert it into probabilities\n",
    "    \n",
    "\n",
    "    #just like how linear regression and logistic regression are similar, because logistic regression is predic-\n",
    "    #-ting the probability of a certain item being the correct answer \n",
    "    \n",
    "    \n",
    "    #input layer -> hidden layer (activation function) => output layer (10) -> probabilities -> output\n",
    "    \n",
    "    #brings non-linearity into the model - \n",
    "    \n",
    "    \n",
    "    #activation function = ReLu relu(x) = max(0,x) -> if element is negative - leave it as zero, leave the real\n",
    "    #number\n"
   ]
  },
  {
   "cell_type": "code",
   "execution_count": 50,
   "metadata": {},
   "outputs": [],
   "source": [
    "#as you can see, if the value is less than 0, it gets set to 0 - Relu at work\n",
    "# x = torch.Tensor([0,-1,-1])\n",
    "# F.relu(x)\n",
    "#batch size should be as large as possible, without making the training slow\n",
    "#but should also be depending on one's gpu/cpu\n",
    "#start at 32/64 and doubling until it doesnt help anymore\n",
    "#the model was getting confused because the pixels that were getting activated, so the relu is giving it the abi\n",
    "#ility to do a non-linearity\n",
    "#view vs reshape -> view ensures the use of the same block of memory\n",
    "class MnistModel(nn.Module):\n",
    "    def __init__(self, in_size, hidden_size, out_size):\n",
    "        super().__init__()\n",
    "        #hidden layer\n",
    "        self.linear1 = nn.Linear(in_size, hidden_size)\n",
    "        #output layer\n",
    "        self.linear2 = nn.Linear(hidden_size, out_size)\n",
    "    def forward(self, xb):\n",
    "        xb = xb.view(xb.size(0), -1)\n",
    "        out = self.linear1(xb)\n",
    "        out = F.relu(out)\n",
    "        out=self.linear2(out)\n",
    "        return out\n"
   ]
  },
  {
   "cell_type": "code",
   "execution_count": 51,
   "metadata": {},
   "outputs": [
    {
     "name": "stdout",
     "output_type": "stream",
     "text": [
      "torch.Size([32, 784])\n",
      "torch.Size([32])\n",
      "torch.Size([10, 32])\n",
      "torch.Size([10])\n"
     ]
    }
   ],
   "source": [
    "#to lose the sense of linearity we do the relu in order to make sure the accuracy is better than 80%\n",
    "input_size = 28**2\n",
    "hidden_size = 32\n",
    "num_classes = 10\n",
    "\n",
    "model = MnistModel(input_size, hidden_size, num_classes)\n",
    "\n",
    "for t in model.parameters():\n",
    "    print(t.shape)"
   ]
  },
  {
   "cell_type": "code",
   "execution_count": 58,
   "metadata": {},
   "outputs": [
    {
     "name": "stdout",
     "output_type": "stream",
     "text": [
      "2.3012804985046387\n"
     ]
    }
   ],
   "source": [
    "for img, lbl in train_loader:\n",
    "    out = model(img)\n",
    "    loss = F.cross_entropy(out, lbl)\n",
    "    print(loss.item())\n",
    "    break"
   ]
  },
  {
   "cell_type": "code",
   "execution_count": 60,
   "metadata": {},
   "outputs": [],
   "source": [
    "#gpus are very suited for games - which do a lot of matrix multiplication"
   ]
  },
  {
   "cell_type": "code",
   "execution_count": null,
   "metadata": {},
   "outputs": [],
   "source": [
    "# I will write the code here and train the model on google colab"
   ]
  },
  {
   "cell_type": "code",
   "execution_count": null,
   "metadata": {},
   "outputs": [],
   "source": []
  },
  {
   "cell_type": "code",
   "execution_count": null,
   "metadata": {},
   "outputs": [],
   "source": []
  },
  {
   "cell_type": "code",
   "execution_count": null,
   "metadata": {},
   "outputs": [],
   "source": []
  },
  {
   "cell_type": "code",
   "execution_count": null,
   "metadata": {},
   "outputs": [],
   "source": []
  },
  {
   "cell_type": "code",
   "execution_count": null,
   "metadata": {},
   "outputs": [],
   "source": []
  },
  {
   "cell_type": "code",
   "execution_count": null,
   "metadata": {},
   "outputs": [],
   "source": []
  },
  {
   "cell_type": "code",
   "execution_count": 185,
   "metadata": {},
   "outputs": [],
   "source": [
    "#For reference, i will put a logistic regression example here:\n",
    "\n",
    "#It is all commented out so you could see how one would implement it. It is similar isn't it"
   ]
  },
  {
   "cell_type": "code",
   "execution_count": 186,
   "metadata": {},
   "outputs": [],
   "source": [
    "class MnistModel(nn.Module):\n",
    "    def __init__(self):\n",
    "        super().__init__()\n",
    "        self.linear = nn.Linear(28*28, 10)\n",
    "    def forward(self, xb):\n",
    "        #whenever you are inputting data into the model, we need to reshape it\n",
    "        xb = xb.reshape(-1, 784)\n",
    "        out = self.linear(xb)\n",
    "        return out"
   ]
  },
  {
   "cell_type": "code",
   "execution_count": 187,
   "metadata": {},
   "outputs": [],
   "source": [
    "\n",
    "other_model = MnistModel()\n",
    "\n",
    "#inital loss\n",
    "\n",
    "# for xb, yb in train_loader:\n",
    "#     preds = model(xb)\n",
    "#     loss = F.cross_entropy(preds, yb)"
   ]
  },
  {
   "cell_type": "code",
   "execution_count": 188,
   "metadata": {},
   "outputs": [],
   "source": [
    "#xb is the pixel densities as a tenso, and yb are the labels, we will calc the loss on the yb and the xb\n",
    "def loss_batch(loss_fn, model, xb, yb, opt):\n",
    "    outputs = model(xb)\n",
    "    loss = loss_fn(outputs, yb)\n",
    "#     print(loss)\n",
    "    loss.backward()\n",
    "    opt.step()\n",
    "    opt.zero_grad()"
   ]
  },
  {
   "cell_type": "code",
   "execution_count": 189,
   "metadata": {},
   "outputs": [],
   "source": [
    "def train(epochs, loss_fn, model, train_loader, lr):\n",
    "    optimizer = torch.optim.SGD(model.parameters(), lr)\n",
    "    for epoch in range(epochs):\n",
    "        for xb, yb in train_loader:\n",
    "            loss_batch(loss_fn, model, xb, yb, optimizer)\n",
    "        "
   ]
  },
  {
   "cell_type": "code",
   "execution_count": 190,
   "metadata": {},
   "outputs": [],
   "source": [
    "train(5, F.cross_entropy, other_model, train_loader, 1e-3)"
   ]
  },
  {
   "cell_type": "code",
   "execution_count": 191,
   "metadata": {},
   "outputs": [],
   "source": [
    "arr_acc = []\n",
    "\n",
    "def test_validate_set(model,loss_fn, valid_dl):\n",
    "    for xbv, ybv in valid_dl:\n",
    "        outputs = model(xbv)\n",
    "        loss = loss_fn(outputs, ybv)\n",
    "        print(loss)\n",
    "        probs,preds = torch.max(outputs, dim=1)\n",
    "        for i in range(len(preds)):\n",
    "            if(preds[i].item() != ybv[i].item()):\n",
    "                arr_acc.append(0)\n",
    "            else:\n",
    "                arr_acc.append(1)\n",
    "        "
   ]
  },
  {
   "cell_type": "code",
   "execution_count": null,
   "metadata": {},
   "outputs": [],
   "source": [
    "test_validate_set(other_model,F.cross_entropy, val_loader)\n",
    "print(sum(arr_acc) / len(arr_acc))"
   ]
  },
  {
   "cell_type": "code",
   "execution_count": 172,
   "metadata": {},
   "outputs": [],
   "source": [
    "test_dataset = MNIST(root = 'data/', train = False, transform = ToTensor())\n",
    "def predict_image(img, model):\n",
    "    output = model(img)\n",
    "    prob, preds = torch.max(output, dim = 1 )\n",
    "    print(preds[0].item())\n"
   ]
  },
  {
   "cell_type": "code",
   "execution_count": 173,
   "metadata": {},
   "outputs": [
    {
     "name": "stdout",
     "output_type": "stream",
     "text": [
      "0\n",
      "0\n"
     ]
    }
   ],
   "source": [
    "x = 10\n",
    "img, labels = test_dataset[x]\n",
    "predict_image(img, other_model)\n",
    "print(labels)\n"
   ]
  },
  {
   "cell_type": "code",
   "execution_count": 193,
   "metadata": {},
   "outputs": [],
   "source": [
    "#done with the logistic testing"
   ]
  },
  {
   "cell_type": "code",
   "execution_count": 194,
   "metadata": {},
   "outputs": [],
   "source": [
    "#time for deeeeeeep"
   ]
  },
  {
   "cell_type": "code",
   "execution_count": null,
   "metadata": {},
   "outputs": [],
   "source": []
  }
 ],
 "metadata": {
  "kernelspec": {
   "display_name": "Python 3",
   "language": "python",
   "name": "python3"
  },
  "language_info": {
   "codemirror_mode": {
    "name": "ipython",
    "version": 3
   },
   "file_extension": ".py",
   "mimetype": "text/x-python",
   "name": "python",
   "nbconvert_exporter": "python",
   "pygments_lexer": "ipython3",
   "version": "3.7.3"
  }
 },
 "nbformat": 4,
 "nbformat_minor": 2
}
