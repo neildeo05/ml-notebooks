{
 "cells": [
  {
   "cell_type": "code",
   "execution_count": 13,
   "metadata": {},
   "outputs": [],
   "source": [
    "#training deep neural networks on gpu if you have a gpu but if you dont then on cpu"
   ]
  },
  {
   "cell_type": "code",
   "execution_count": 28,
   "metadata": {},
   "outputs": [],
   "source": [
    "import torch\n",
    "import numpy as np\n",
    "import torchvision\n",
    "import torch.nn as nn\n",
    "from torchvision.datasets import MNIST\n",
    "from torchvision.transforms import ToTensor\n",
    "from torch.utils.data.sampler import SubsetRandomSampler\n",
    "from torch.utils.data.dataloader import DataLoader\n",
    "import matplotlib.pyplot as plt\n",
    "import torch.nn.functional as F"
   ]
  },
  {
   "cell_type": "code",
   "execution_count": 29,
   "metadata": {},
   "outputs": [],
   "source": [
    "#download dataset, but i already have it downloaded\n",
    "dataset = MNIST(root='data/', train=True, transform=ToTensor())"
   ]
  },
  {
   "cell_type": "code",
   "execution_count": 30,
   "metadata": {},
   "outputs": [],
   "source": [
    "#validation set\n",
    "\n",
    "def split_indices(n, val_pct):\n",
    "    pct_gone = int(n*val_pct)\n",
    "    print(pct_gone)\n",
    "    idxs = np.random.permutation(n)\n",
    "    #so from 12,000 images to the end - we set the training dataset to those random permutations\n",
    "    return idxs[pct_gone:], idxs[:pct_gone]"
   ]
  },
  {
   "cell_type": "code",
   "execution_count": 31,
   "metadata": {},
   "outputs": [
    {
     "name": "stdout",
     "output_type": "stream",
     "text": [
      "12000\n"
     ]
    }
   ],
   "source": [
    "train_indices, val_indices = split_indices(len(dataset), 0.2)"
   ]
  },
  {
   "cell_type": "code",
   "execution_count": 32,
   "metadata": {},
   "outputs": [],
   "source": [
    "img, label = dataset[0]"
   ]
  },
  {
   "cell_type": "code",
   "execution_count": 33,
   "metadata": {},
   "outputs": [
    {
     "data": {
      "text/plain": [
       "<matplotlib.image.AxesImage at 0x1294eefd0>"
      ]
     },
     "execution_count": 33,
     "metadata": {},
     "output_type": "execute_result"
    },
    {
     "data": {
      "image/png": "[encoded data removed]",
      "text/plain": [
       "<Figure size 432x288 with 1 Axes>"
      ]
     },
     "metadata": {
      "needs_background": "light"
     },
     "output_type": "display_data"
    }
   ],
   "source": [
    "plt.imshow(img[0], cmap='gray')"
   ]
  },
  {
   "cell_type": "code",
   "execution_count": 34,
   "metadata": {},
   "outputs": [],
   "source": [
    "#we will randomize the position of the data, in order to lessen the biases\n",
    "#we will create batches out of the indices that are specified below\n",
    "train_sampler = SubsetRandomSampler(train_indices)\n",
    "train_loader = DataLoader(dataset, 100, sampler=train_sampler)"
   ]
  },
  {
   "cell_type": "code",
   "execution_count": 35,
   "metadata": {},
   "outputs": [],
   "source": [
    "#we will create batches out of the indices that are specified below\n",
    "#it will do a random shuffle opf the data, gradient descent works better when you randomize the data\n",
    "\n",
    "#we need a validation set to test the model on data that it hasn't seen, and then you can tweak the hyperparams\n",
    "val_sampler = SubsetRandomSampler(val_indices)\n",
    "val_loader = DataLoader(dataset, 100, sampler=val_sampler)"
   ]
  },
  {
   "cell_type": "code",
   "execution_count": 36,
   "metadata": {},
   "outputs": [],
   "source": [
    "#nn.Linear takes inputs and outputs, creates weights and biases, bases of linear and logistic regression\n",
    "#you need to flatten it out to a vector of size 784\n",
    "#the outputs are the probabilites of the numbers being the correct prediction"
   ]
  },
  {
   "cell_type": "code",
   "execution_count": 37,
   "metadata": {},
   "outputs": [],
   "source": [
    "#Now, in the deep learning neural network we are creating: \n",
    "    #we will use 2 nn.Linear objects. Each one acts as a hidden layer inside the model\n",
    "    #the first layer, nn.Linear, wil transform the input matrix, which has already been reshaped to batch * 784\n",
    "        #to now it will be batch * hidden_size, which hidden_size is a preconfigured parameter, like 32 or 64\n",
    "        \n",
    "    #the intermediate outputs of the layer are passed on to the activation function, which operates on individual\n",
    "    #elements of the output vector\n",
    "    \n",
    "    #The result of the activation function is then passed on to the second layer:\n",
    "        #The second layer transforms the output into batch_size * 10, identical to the logistic regression model\n",
    "        \n",
    "#differences between this and logistic regression:\n",
    "    #logistic regression model takes in an image, and uses something called cross_entropy to caclulate the loss\n",
    "    #which is then put back into the model in order to optimize the function. The forward function, which is re\n",
    "    #-sponsible for outputting the alterations it does to the inputs in order for the data to be used to calc-\n",
    "    #-ulate the gradients, reshapes the data into -1,784 (-1 is kinda a placeholder), and then it returns the \n",
    "    #nn.linear model with the correct input and output layer\n",
    "    #cross entropy does its own softmax in order to convert it into probabilities\n",
    "    \n",
    "\n",
    "    #just like how linear regression and logistic regression are similar, because logistic regression is predic-\n",
    "    #-ting the probability of a certain item being the correct answer \n",
    "    \n",
    "   "
   ]
  },
  {
   "cell_type": "code",
   "execution_count": 38,
   "metadata": {},
   "outputs": [],
   "source": [
    "#trying out with logistic regression\n",
    "class MnistModel(nn.Module):\n",
    "    def __init__(self):\n",
    "        super().__init__()\n",
    "        self.linear = nn.Linear(28*28,10)\n",
    "    def forward(self, xb):\n",
    "        xb = xb.reshape(-1, 784)\n",
    "        out = self.linear(xb)\n",
    "        return out\n",
    "        "
   ]
  },
  {
   "cell_type": "code",
   "execution_count": 44,
   "metadata": {},
   "outputs": [
    {
     "name": "stdout",
     "output_type": "stream",
     "text": [
      "MnistModel(\n",
      "  (linear): Linear(in_features=784, out_features=10, bias=True)\n",
      ")\n",
      "tensor([-0.0337,  0.0618, -0.1159,  0.0759, -0.2140, -0.1245,  0.1330, -0.0976,\n",
      "        -0.0333, -0.0070])\n"
     ]
    }
   ],
   "source": [
    "model = MnistModel()\n",
    "loss_fn = F.cross_entropy\n",
    "print(model)\n"
   ]
  },
  {
   "cell_type": "code",
   "execution_count": 57,
   "metadata": {},
   "outputs": [],
   "source": [
    "def loss_on_batch(loss_fn, model, xb, yb, opt):\n",
    "    outputs = model(xb)\n",
    "    loss = loss_fn(outputs, yb)\n",
    "    \n",
    "    loss.backward()\n",
    "    opt.step()\n",
    "    opt.zero_grad()\n",
    "    \n",
    "    \n",
    "def train(epochs, loss_fn, model,train_dl, lr):\n",
    "    opt = torch.optim.SGD(model.parameters(), lr)\n",
    "    for epoch in range(epochs):\n",
    "        for xb, yb in train_dl:\n",
    "            loss_on_batch(loss_fn, model, xb, yb, opt)\n",
    "\n",
    "    \n",
    "train(5, loss_fn, model, train_loader, 1e-3)"
   ]
  },
  {
   "cell_type": "code",
   "execution_count": 68,
   "metadata": {},
   "outputs": [],
   "source": [
    "def accuracy(outputs, labels):\n",
    "    probs, preds = torch.max(outputs, dim=1)\n",
    "    return torch.sum(preds == labels).item()/len(labels)\n"
   ]
  },
  {
   "cell_type": "code",
   "execution_count": 69,
   "metadata": {},
   "outputs": [
    {
     "name": "stdout",
     "output_type": "stream",
     "text": [
      "tensor(1.0565)\n",
      "tensor(1.1911)\n",
      "tensor(1.0553)\n",
      "tensor(1.2162)\n",
      "tensor(1.0758)\n",
      "tensor(1.1116)\n",
      "tensor(1.0498)\n",
      "tensor(1.0448)\n",
      "tensor(1.1185)\n",
      "tensor(1.2097)\n",
      "tensor(1.1178)\n",
      "tensor(1.0922)\n",
      "tensor(1.1002)\n",
      "tensor(1.1426)\n",
      "tensor(1.1604)\n",
      "tensor(1.1539)\n",
      "tensor(1.1264)\n",
      "tensor(1.0968)\n",
      "tensor(1.0550)\n",
      "tensor(1.1646)\n",
      "tensor(1.1553)\n",
      "tensor(1.0921)\n",
      "tensor(1.0703)\n",
      "tensor(1.0936)\n",
      "tensor(1.1168)\n",
      "tensor(1.2248)\n",
      "tensor(1.0374)\n",
      "tensor(1.1744)\n",
      "tensor(1.0870)\n",
      "tensor(1.1043)\n",
      "tensor(1.1106)\n",
      "tensor(1.2056)\n",
      "tensor(1.1185)\n",
      "tensor(1.0827)\n",
      "tensor(1.1219)\n",
      "tensor(1.0254)\n",
      "tensor(1.1282)\n",
      "tensor(1.0727)\n",
      "tensor(1.1289)\n",
      "tensor(1.1198)\n",
      "tensor(1.2586)\n",
      "tensor(1.0964)\n",
      "tensor(1.0724)\n",
      "tensor(1.1113)\n",
      "tensor(1.0212)\n",
      "tensor(1.0960)\n",
      "tensor(1.1880)\n",
      "tensor(1.0619)\n",
      "tensor(1.1882)\n",
      "tensor(1.1134)\n",
      "tensor(1.1133)\n",
      "tensor(1.1034)\n",
      "tensor(1.1018)\n",
      "tensor(1.0560)\n",
      "tensor(1.1374)\n",
      "tensor(1.2566)\n",
      "tensor(1.0545)\n",
      "tensor(1.1186)\n",
      "tensor(1.1745)\n",
      "tensor(1.1102)\n",
      "tensor(1.1099)\n",
      "tensor(1.1614)\n",
      "tensor(1.1547)\n",
      "tensor(1.0650)\n",
      "tensor(1.1954)\n",
      "tensor(1.1618)\n",
      "tensor(1.0722)\n",
      "tensor(1.0068)\n",
      "tensor(1.0919)\n",
      "tensor(1.1619)\n",
      "tensor(1.1473)\n",
      "tensor(1.1077)\n",
      "tensor(1.0614)\n",
      "tensor(1.0721)\n",
      "tensor(1.1021)\n",
      "tensor(1.0324)\n",
      "tensor(1.1289)\n",
      "tensor(1.1035)\n",
      "tensor(1.1084)\n",
      "tensor(1.1548)\n",
      "tensor(1.1599)\n",
      "tensor(1.2262)\n",
      "tensor(1.2063)\n",
      "tensor(1.1552)\n",
      "tensor(1.1416)\n",
      "tensor(1.0400)\n",
      "tensor(1.1608)\n",
      "tensor(1.1773)\n",
      "tensor(1.0713)\n",
      "tensor(1.1056)\n",
      "tensor(1.2185)\n",
      "tensor(1.0965)\n",
      "tensor(1.1454)\n",
      "tensor(1.0740)\n",
      "tensor(1.0846)\n",
      "tensor(1.1666)\n",
      "tensor(0.9924)\n",
      "tensor(1.0695)\n",
      "tensor(1.0599)\n",
      "tensor(1.0405)\n",
      "tensor(1.2463)\n",
      "tensor(1.1030)\n",
      "tensor(1.2193)\n",
      "tensor(1.1177)\n",
      "tensor(1.0688)\n",
      "tensor(1.0900)\n",
      "tensor(1.0916)\n",
      "tensor(1.0985)\n",
      "tensor(1.1390)\n",
      "tensor(1.0888)\n",
      "tensor(1.1356)\n",
      "tensor(1.1235)\n",
      "tensor(1.1232)\n",
      "tensor(1.0685)\n",
      "tensor(1.1257)\n",
      "tensor(1.0960)\n",
      "tensor(1.1220)\n",
      "tensor(1.0672)\n",
      "tensor(1.0252)\n",
      "tensor(1.1660)\n",
      "0.8033333333333335\n"
     ]
    }
   ],
   "source": [
    "avg_acc = []\n",
    "def validate(valid_dl, model):\n",
    "    \n",
    "    with torch.no_grad():\n",
    "        for xb, yb in valid_dl:\n",
    "            preds = model(xb)\n",
    "            print(loss_fn(preds, yb))\n",
    "            avg_acc.append(accuracy(preds,yb))\n",
    "\n",
    "    return sum(avg_acc)/len(avg_acc)\n",
    "\n",
    "#after running the model through the validation dataset, this was the average accuracy\n",
    "print(validate(val_loader, model))"
   ]
  },
  {
   "cell_type": "code",
   "execution_count": 73,
   "metadata": {},
   "outputs": [],
   "source": [
    "test_dataset = MNIST(root = 'data/', train = False, transform = ToTensor())\n",
    "def predict_image(img, model):\n",
    "    xb = img.unsqueeze(0)\n",
    "    yb = model(xb)\n",
    "    prob, preds = torch.max(yb, dim = 1 )\n",
    "    \n",
    "    print(preds[0].item())\n"
   ]
  },
  {
   "cell_type": "code",
   "execution_count": 86,
   "metadata": {},
   "outputs": [
    {
     "name": "stdout",
     "output_type": "stream",
     "text": [
      "the model predicted :\n",
      "4\n",
      "and the correct image is:\n",
      "4\n"
     ]
    },
    {
     "data": {
      "image/png": "[encoded data removed]",
      "text/plain": [
       "<Figure size 432x288 with 1 Axes>"
      ]
     },
     "metadata": {
      "needs_background": "light"
     },
     "output_type": "display_data"
    }
   ],
   "source": [
    "print(\"the model predicted :\")\n",
    "x = 1111\n",
    "predict_image(test_dataset[x][0], model)\n",
    "ten, lab = test_dataset[x]\n",
    "print(\"and the correct image is:\")\n",
    "plt.imshow(ten[0],cmap='gray')\n",
    "print(lab)\n"
   ]
  },
  {
   "cell_type": "code",
   "execution_count": null,
   "metadata": {},
   "outputs": [],
   "source": []
  }
 ],
 "metadata": {
  "kernelspec": {
   "display_name": "Python 3",
   "language": "python",
   "name": "python3"
  },
  "language_info": {
   "codemirror_mode": {
    "name": "ipython",
    "version": 3
   },
   "file_extension": ".py",
   "mimetype": "text/x-python",
   "name": "python",
   "nbconvert_exporter": "python",
   "pygments_lexer": "ipython3",
   "version": "3.7.3"
  }
 },
 "nbformat": 4,
 "nbformat_minor": 2
}
