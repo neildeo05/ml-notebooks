{
 "cells": [
  {
   "cell_type": "code",
   "execution_count": 22,
   "metadata": {},
   "outputs": [],
   "source": [
    "#training deep neural networks on gpu if you have a gpu but if you dont then on cpu"
   ]
  },
  {
   "cell_type": "code",
   "execution_count": 23,
   "metadata": {},
   "outputs": [],
   "source": [
    "import torch\n",
    "import numpy as np\n",
    "import torchvision\n",
    "from torchvision.datasets import MNIST\n",
    "from torchvision.transforms import ToTensor\n",
    "from torch.utils.data.sampler import SubsetRandomSampler\n",
    "from torch.utils.data.dataloader import DataLoader\n",
    "import matplotlib.pyplot as plt"
   ]
  },
  {
   "cell_type": "code",
   "execution_count": 24,
   "metadata": {},
   "outputs": [],
   "source": [
    "#download dataset, but i already have it downloaded\n",
    "dataset = MNIST(root='data/', train=True, transform=ToTensor())"
   ]
  },
  {
   "cell_type": "code",
   "execution_count": 25,
   "metadata": {},
   "outputs": [],
   "source": [
    "#validation set\n",
    "\n",
    "def split_indices(n, val_pct):\n",
    "    pct_gone = int(n*val_pct)\n",
    "    print(pct_gone)\n",
    "    idxs = np.random.permutation(n)\n",
    "    #so from 12,000 images to the end - we set the training dataset to those random permutations\n",
    "    return idxs[pct_gone:], idxs[:pct_gone]"
   ]
  },
  {
   "cell_type": "code",
   "execution_count": 26,
   "metadata": {},
   "outputs": [
    {
     "name": "stdout",
     "output_type": "stream",
     "text": [
      "12000\n"
     ]
    }
   ],
   "source": [
    "train_indices, val_indices = split_indices(len(dataset), 0.2)"
   ]
  },
  {
   "cell_type": "code",
   "execution_count": 27,
   "metadata": {},
   "outputs": [],
   "source": [
    "img, label = dataset[0]"
   ]
  },
  {
   "cell_type": "code",
   "execution_count": 28,
   "metadata": {},
   "outputs": [
    {
     "data": {
      "text/plain": [
       "<matplotlib.image.AxesImage at 0x1224bf400>"
      ]
     },
     "execution_count": 28,
     "metadata": {},
     "output_type": "execute_result"
    },
    {
     "data": {
      "image/png": "[encoded data removed]",
      "text/plain": [
       "<Figure size 432x288 with 1 Axes>"
      ]
     },
     "metadata": {
      "needs_background": "light"
     },
     "output_type": "display_data"
    }
   ],
   "source": [
    "plt.imshow(img[0], cmap='gray')"
   ]
  },
  {
   "cell_type": "code",
   "execution_count": 29,
   "metadata": {},
   "outputs": [],
   "source": [
    "#we will randomize the position of the data, in order to lessen the biases\n",
    "#we will create batches out of the indices that are specified below\n",
    "train_sampler = SubsetRandomSampler(train_indices)\n",
    "train_loader = DataLoader(dataset, 100, sampler=train_sampler)"
   ]
  },
  {
   "cell_type": "code",
   "execution_count": 30,
   "metadata": {},
   "outputs": [],
   "source": [
    "#we will create batches out of the indices that are specified below\n",
    "#it will do a random shuffle opf the data, gradient descent works better when you randomize the data\n",
    "\n",
    "#we need a validation set to test the model on data that it hasn't seen, and then you can tweak the hyperparams\n",
    "val_sampler = SubsetRandomSampler(val_indices)\n",
    "val_loader = DataLoader(dataset, 100, sampler=val_sampler)"
   ]
  },
  {
   "cell_type": "code",
   "execution_count": 31,
   "metadata": {},
   "outputs": [],
   "source": [
    "#nn.Linear takes inputs and outputs, creates weights and biases, bases of linear and logistic regression\n",
    "#you need to flatten it out to a vector of size 784\n",
    "#the outputs are the probabilites of the numbers being the correct prediction"
   ]
  },
  {
   "cell_type": "code",
   "execution_count": 40,
   "metadata": {},
   "outputs": [],
   "source": [
    "#Now, in the deep learning neural network we are creating: \n",
    "    #we will use 2 nn.Linear objects. Each one acts as a hidden layer inside the model\n",
    "    #the first layer, nn.Linear, wil transform the input matrix, which has already been reshaped to batch * 784\n",
    "        #to now it will be batch * hidden_size, which hidden_size is a preconfigured parameter, like 32 or 64\n",
    "        \n",
    "    #the intermediate outputs of the layer are passed on to the activation function, which operates on individual\n",
    "    #elements of the output vector\n",
    "    \n",
    "    #The result of the activation function is then passed on to the second layer:\n",
    "        #The second layer transforms the output into batch_size * 10, identical to the logistic regression model\n",
    "        \n",
    "#differences between this and logistic regression:\n",
    "    #logistic regression model takes in an image, and uses something called cross_entropy to caclulate the loss\n",
    "    #which is then put back into the model in order to optimize the function. The forward function, which is re\n",
    "    #-sponsible for outputting the alterations it does to the inputs in order for the data to be used to calc-\n",
    "    #-ulate the gradients, reshapes the data into -1,784 (-1 is kinda a placeholder), and then it returns the \n",
    "    #nn.linear model with the correct input and output layer\n",
    "    #cross entropy does its own softmax in order to convert it into probabilities\n",
    "    \n",
    "\n",
    "    #just like how linear regression and logistic regression are similar, because logistic regression is predic-\n",
    "    #-ting the probability of a certain item being the correct answer \n",
    "    \n",
    "   "
   ]
  },
  {
   "cell_type": "code",
   "execution_count": null,
   "metadata": {},
   "outputs": [],
   "source": []
  }
 ],
 "metadata": {
  "kernelspec": {
   "display_name": "Python 3",
   "language": "python",
   "name": "python3"
  },
  "language_info": {
   "codemirror_mode": {
    "name": "ipython",
    "version": 3
   },
   "file_extension": ".py",
   "mimetype": "text/x-python",
   "name": "python",
   "nbconvert_exporter": "python",
   "pygments_lexer": "ipython3",
   "version": "3.7.3"
  }
 },
 "nbformat": 4,
 "nbformat_minor": 2
}
