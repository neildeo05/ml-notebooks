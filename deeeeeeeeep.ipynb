{
  "nbformat": 4,
  "nbformat_minor": 0,
  "metadata": {
    "colab": {
      "name": "deeeeeeeeep",
      "provenance": []
    },
    "kernelspec": {
      "name": "python3",
      "display_name": "Python 3"
    },
    "accelerator": "GPU"
  },
  "cells": [
    {
      "cell_type": "code",
      "metadata": {
        "id": "h8209upjtI37",
        "colab_type": "code",
        "colab": {}
      },
      "source": [
        "import torch"
      ],
      "execution_count": 1,
      "outputs": []
    },
    {
      "cell_type": "code",
      "metadata": {
        "id": "OFrRyZq0tRp3",
        "colab_type": "code",
        "colab": {}
      },
      "source": [
        "\n",
        "import numpy as np\n",
        "import torchvision\n",
        "import torch.nn as nn\n",
        "from torchvision.datasets import MNIST, FakeData\n",
        "from torchvision.transforms import ToTensor\n",
        "from torch.utils.data.sampler import SubsetRandomSampler\n",
        "from torch.utils.data.dataloader import DataLoader\n",
        "import matplotlib.pyplot as plt\n",
        "import torch.nn.functional as F"
      ],
      "execution_count": 3,
      "outputs": []
    },
    {
      "cell_type": "code",
      "metadata": {
        "id": "3nL3AEBcttt4",
        "colab_type": "code",
        "colab": {}
      },
      "source": [
        ""
      ],
      "execution_count": null,
      "outputs": []
    },
    {
      "cell_type": "code",
      "metadata": {
        "id": "aHOhPJIhteZS",
        "colab_type": "code",
        "colab": {}
      },
      "source": [
        "#download dataset, but i already have it downloaded\n",
        "\n",
        "\n",
        "dataset = MNIST(root='data/', train=True, transform=ToTensor())"
      ],
      "execution_count": 8,
      "outputs": []
    },
    {
      "cell_type": "code",
      "metadata": {
        "id": "C896ksEhth8n",
        "colab_type": "code",
        "colab": {}
      },
      "source": [
        "\n",
        "def split_indices(n, val_pct):\n",
        "    pct_gone = int(n*val_pct)\n",
        "    print(pct_gone)\n",
        "    idxs = np.random.permutation(n)\n",
        "    #so from 12,000 images to the end - we set the training dataset to those random permutations\n",
        "    return idxs[pct_gone:], idxs[:pct_gone]"
      ],
      "execution_count": 9,
      "outputs": []
    },
    {
      "cell_type": "code",
      "metadata": {
        "id": "R-MnA6Aat32O",
        "colab_type": "code",
        "colab": {
          "base_uri": "https://localhost:8080/",
          "height": 34
        },
        "outputId": "bf58640d-7285-4455-a8b6-33d7e2240a56"
      },
      "source": [
        "train_indices, val_indices = split_indices(len(dataset), 0.2)"
      ],
      "execution_count": 10,
      "outputs": [
        {
          "output_type": "stream",
          "text": [
            "12000\n"
          ],
          "name": "stdout"
        }
      ]
    },
    {
      "cell_type": "code",
      "metadata": {
        "id": "RFk0NcR7t7Tx",
        "colab_type": "code",
        "colab": {}
      },
      "source": [
        "#we will randomize the position of the data, in order to lessen the biases\n",
        "#we will create batches out of the indices that are specified below\n",
        "train_sampler = SubsetRandomSampler(train_indices)\n",
        "train_loader = DataLoader(dataset, 100, sampler=train_sampler)"
      ],
      "execution_count": 12,
      "outputs": []
    },
    {
      "cell_type": "code",
      "metadata": {
        "id": "X6tEcTBat-ed",
        "colab_type": "code",
        "colab": {}
      },
      "source": [
        "val_sampler = SubsetRandomSampler(val_indices)\n",
        "val_loader = DataLoader(dataset, 100, sampler=val_sampler)"
      ],
      "execution_count": 13,
      "outputs": []
    },
    {
      "cell_type": "code",
      "metadata": {
        "id": "ve9husIcuVwX",
        "colab_type": "code",
        "colab": {}
      },
      "source": [
        "class MnistModel(nn.Module):\n",
        "    def __init__(self, in_size, hidden_size, out_size):\n",
        "        super().__init__()\n",
        "        #hidden layer\n",
        "        self.linear1 = nn.Linear(in_size, hidden_size)\n",
        "        #output layer\n",
        "        self.linear2 = nn.Linear(hidden_size, out_size)\n",
        "    def forward(self, xb):\n",
        "        xb = xb.view(xb.size(0), -1)\n",
        "        out = self.linear1(xb)\n",
        "        out = F.relu(out)\n",
        "        out=self.linear2(out)\n",
        "        return out\n"
      ],
      "execution_count": 14,
      "outputs": []
    },
    {
      "cell_type": "code",
      "metadata": {
        "id": "s_4IFLWxuWc9",
        "colab_type": "code",
        "colab": {
          "base_uri": "https://localhost:8080/",
          "height": 85
        },
        "outputId": "ea77eeb7-0f88-4d2f-8256-c8e9dfd47a7c"
      },
      "source": [
        "input_size = 28**2\n",
        "hidden_size = 32\n",
        "num_classes = 10\n",
        "\n",
        "model = MnistModel(input_size, hidden_size, num_classes)\n",
        "\n",
        "for t in model.parameters():\n",
        "    print(t.shape)"
      ],
      "execution_count": 15,
      "outputs": [
        {
          "output_type": "stream",
          "text": [
            "torch.Size([32, 784])\n",
            "torch.Size([32])\n",
            "torch.Size([10, 32])\n",
            "torch.Size([10])\n"
          ],
          "name": "stdout"
        }
      ]
    },
    {
      "cell_type": "code",
      "metadata": {
        "id": "nDng2iT_uY3v",
        "colab_type": "code",
        "colab": {
          "base_uri": "https://localhost:8080/",
          "height": 34
        },
        "outputId": "b88717ae-58a1-4ba4-a84a-d6854ca51f3e"
      },
      "source": [
        "for img, lbl in train_loader:\n",
        "    out = model(img)\n",
        "    loss = F.cross_entropy(out, lbl)\n",
        "    print(loss.item())\n",
        "    break"
      ],
      "execution_count": 16,
      "outputs": [
        {
          "output_type": "stream",
          "text": [
            "2.3299264907836914\n"
          ],
          "name": "stdout"
        }
      ]
    },
    {
      "cell_type": "code",
      "metadata": {
        "id": "R82_m-Lwua6R",
        "colab_type": "code",
        "colab": {
          "base_uri": "https://localhost:8080/",
          "height": 34
        },
        "outputId": "113bd2c3-dcf1-40d4-abf3-3b9ecfb3e804"
      },
      "source": [
        ""
      ],
      "execution_count": 17,
      "outputs": [
        {
          "output_type": "stream",
          "text": [
            "True\n"
          ],
          "name": "stdout"
        }
      ]
    },
    {
      "cell_type": "code",
      "metadata": {
        "id": "uY0W2zJLueDw",
        "colab_type": "code",
        "colab": {}
      },
      "source": [
        ""
      ],
      "execution_count": null,
      "outputs": []
    }
  ]
}