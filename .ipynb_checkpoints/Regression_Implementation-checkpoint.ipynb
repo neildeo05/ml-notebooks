{
 "cells": [
  {
   "cell_type": "code",
   "execution_count": 62,
   "metadata": {},
   "outputs": [],
   "source": [
    "#Linear regression is the most simple type of nn if you think abnout it\n",
    "#Basically there is an input layer and an output layer\n",
    "import torch\n",
    "import torch.nn as nn \n",
    "import torch.nn.functional as F\n",
    "from torch.utils.data import TensorDataset\n",
    "from torch.utils.data import DataLoader\n",
    "\n",
    "import matplotlib.pyplot as plt\n",
    "import numpy as np\n",
    "\n",
    "#this one looks at temperature, humidity and rainfall to get crop yields - lets do something like that\n",
    "\n",
    "\n",
    "inputs = np.array([[73, 67, 43], [91, 88, 64], [87, 134, 58], \n",
    "                   [102, 43, 37], [69, 96, 70], [73, 67, 43], \n",
    "                   [91, 88, 64], [87, 134, 58], [102, 43, 37], \n",
    "                   [69, 96, 70], [73, 67, 43], [91, 88, 64], \n",
    "                   [87, 134, 58], [102, 43, 37], [69, 96, 70]], \n",
    "                  dtype='float32')\n",
    "\n",
    "# Targets (apples, oranges)\n",
    "targets = np.array([[56, 70], [81, 101], [119, 133], \n",
    "                    [22, 37], [103, 119], [56, 70], \n",
    "                    [81, 101], [119, 133], [22, 37], \n",
    "                    [103, 119], [56, 70], [81, 101], \n",
    "                    [119, 133], [22, 37], [103, 119]], \n",
    "                   dtype='float32')\n",
    "\n",
    "\n",
    "#insulin, blood sugar, blood pressure\n",
    "\n",
    "metrics = np.array([[100, 130, 220], [50, 60, 150], [30, 130, 221], \n",
    "                    [40, 51, 230], [90, 180, 270], [100, 130, 220], \n",
    "                    [50, 60, 150],[30, 130, 221], [40, 51, 230], \n",
    "                    [90, 180, 270], [100, 130, 220], [50, 60, 150], \n",
    "                    [30, 130, 221], [40, 51, 230], [90, 180, 270]], dtype=\"float32\")\n",
    "\n",
    "relations = np.array([[1,1], [0,1], [0,0],\n",
    "                      [1,0],[0,1], [0,0],\n",
    "                      [1,1],[0,0], [0,1],\n",
    "                      [0,0], [0,0], [0,0],\n",
    "                      [1,1], [0,0], [0,0]], dtype=\"float32\")"
   ]
  },
  {
   "cell_type": "code",
   "execution_count": 63,
   "metadata": {},
   "outputs": [],
   "source": [
    "inputs = torch.from_numpy(inputs)\n",
    "targets = torch.from_numpy(targets)\n",
    "training_dataset = TensorDataset(inputs, targets)\n",
    "batches = 5\n",
    "train_dl = DataLoader(training_dataset, batches, shuffle=True)\n",
    "\n",
    "\n",
    "metrics = torch.from_numpy(metrics)\n",
    "relations = torch.from_numpy(relations)\n",
    "\n",
    "\n",
    "dataset = TensorDataset(metrics, relations)\n",
    "dataloader = DataLoader(dataset, 5, shuffle=True)"
   ]
  },
  {
   "cell_type": "code",
   "execution_count": 64,
   "metadata": {},
   "outputs": [
    {
     "name": "stdout",
     "output_type": "stream",
     "text": [
      "tensor([[-12.1858, -34.7507],\n",
      "        [-16.7297, -41.4373],\n",
      "        [ 10.9362, -62.8014],\n",
      "        [-34.4272, -35.1260],\n",
      "        [ -5.6691, -36.1020],\n",
      "        [-12.1858, -34.7507],\n",
      "        [-16.7297, -41.4373],\n",
      "        [ 10.9362, -62.8014],\n",
      "        [-34.4272, -35.1260],\n",
      "        [ -5.6691, -36.1020],\n",
      "        [-12.1858, -34.7507],\n",
      "        [-16.7297, -41.4373],\n",
      "        [ 10.9362, -62.8014],\n",
      "        [-34.4272, -35.1260],\n",
      "        [ -5.6691, -36.1020]], grad_fn=<AddmmBackward>)\n"
     ]
    },
    {
     "data": {
      "text/plain": [
       "tensor(1774.8956, grad_fn=<MseLossBackward>)"
      ]
     },
     "execution_count": 64,
     "metadata": {},
     "output_type": "execute_result"
    }
   ],
   "source": [
    "#inital predictions and loss of the function\n",
    "model = nn.Linear(3,2)\n",
    "\n",
    "preds = model(inputs)\n",
    "print(preds)\n",
    "\n",
    "preds2 = model(metrics)\n",
    "\n",
    "mse = F.mse_loss\n",
    "\n",
    "loss = mse(preds, targets)\n",
    "loss2 = mse(preds2, relations)\n",
    "loss2\n"
   ]
  },
  {
   "cell_type": "code",
   "execution_count": 39,
   "metadata": {},
   "outputs": [],
   "source": [
    "#need a number of epochs, a model, a loss function, and a training dataloader\n",
    "def fit(num_epochs, model, loss_fn, train_dl):\n",
    "    for epoch in range(num_epochs):\n",
    "        #in 5 different batches, and it has 2 different tensors that are stored\n",
    "        for x,y in train_dl:\n",
    "            preds = model(x)\n",
    "            loss = mse(preds, y)\n",
    "            loss.backward()\n",
    "            with torch.no_grad():\n",
    "                model.weight -= model.weight.grad * 1e-5\n",
    "                model.bias -= model.bias.grad * 1e-5\n",
    "                model.weight.grad.zero_()\n",
    "                model.bias.grad.zero_()\n",
    "\n",
    "        if (epoch + 1) % 10 == 0:\n",
    "            print('Epoch [{}/{}], Loss: {:.4f}'.format(epoch+1, num_epochs, loss.item()))"
   ]
  },
  {
   "cell_type": "code",
   "execution_count": 65,
   "metadata": {},
   "outputs": [
    {
     "name": "stdout",
     "output_type": "stream",
     "text": [
      "Epoch [10/500], Loss: 290.0747\n",
      "Epoch [20/500], Loss: 146.0078\n",
      "Epoch [30/500], Loss: 88.8049\n",
      "Epoch [40/500], Loss: 49.2678\n",
      "Epoch [50/500], Loss: 29.4808\n",
      "Epoch [60/500], Loss: 20.1551\n",
      "Epoch [70/500], Loss: 6.8893\n",
      "Epoch [80/500], Loss: 19.3489\n",
      "Epoch [90/500], Loss: 7.5322\n",
      "Epoch [100/500], Loss: 4.5233\n",
      "Epoch [110/500], Loss: 1.3486\n",
      "Epoch [120/500], Loss: 2.7835\n",
      "Epoch [130/500], Loss: 0.5889\n",
      "Epoch [140/500], Loss: 1.2408\n",
      "Epoch [150/500], Loss: 2.7092\n",
      "Epoch [160/500], Loss: 0.9818\n",
      "Epoch [170/500], Loss: 0.4112\n",
      "Epoch [180/500], Loss: 0.3188\n",
      "Epoch [190/500], Loss: 0.6282\n",
      "Epoch [200/500], Loss: 0.2035\n",
      "Epoch [210/500], Loss: 0.6989\n",
      "Epoch [220/500], Loss: 0.4569\n",
      "Epoch [230/500], Loss: 0.5470\n",
      "Epoch [240/500], Loss: 0.4885\n",
      "Epoch [250/500], Loss: 0.3048\n",
      "Epoch [260/500], Loss: 0.2037\n",
      "Epoch [270/500], Loss: 0.3008\n",
      "Epoch [280/500], Loss: 0.2964\n",
      "Epoch [290/500], Loss: 0.2802\n",
      "Epoch [300/500], Loss: 0.2877\n",
      "Epoch [310/500], Loss: 0.2150\n",
      "Epoch [320/500], Loss: 0.2046\n",
      "Epoch [330/500], Loss: 0.3267\n",
      "Epoch [340/500], Loss: 0.3404\n",
      "Epoch [350/500], Loss: 0.2388\n",
      "Epoch [360/500], Loss: 0.2895\n",
      "Epoch [370/500], Loss: 0.2679\n",
      "Epoch [380/500], Loss: 0.2401\n",
      "Epoch [390/500], Loss: 0.1898\n",
      "Epoch [400/500], Loss: 0.3048\n",
      "Epoch [410/500], Loss: 0.3991\n",
      "Epoch [420/500], Loss: 0.2301\n",
      "Epoch [430/500], Loss: 0.2164\n",
      "Epoch [440/500], Loss: 0.2586\n",
      "Epoch [450/500], Loss: 0.2853\n",
      "Epoch [460/500], Loss: 0.3123\n",
      "Epoch [470/500], Loss: 0.4127\n",
      "Epoch [480/500], Loss: 0.2060\n",
      "Epoch [490/500], Loss: 0.3068\n",
      "Epoch [500/500], Loss: 0.2251\n"
     ]
    }
   ],
   "source": [
    "# fit(500, model, mse, train_dl)\n",
    "\n",
    "fit(500, model, mse, dataloader)"
   ]
  },
  {
   "cell_type": "code",
   "execution_count": 66,
   "metadata": {},
   "outputs": [
    {
     "name": "stdout",
     "output_type": "stream",
     "text": [
      "tensor([0.1034, 0.4822], grad_fn=<AddBackward0>)\n"
     ]
    }
   ],
   "source": [
    "test_param = torch.Tensor([61, 0, 81])\n",
    "\n",
    "preds = model(test_param)\n",
    "\n",
    "print(preds)\n"
   ]
  },
  {
   "cell_type": "code",
   "execution_count": null,
   "metadata": {},
   "outputs": [],
   "source": []
  }
 ],
 "metadata": {
  "kernelspec": {
   "display_name": "Python 3",
   "language": "python",
   "name": "python3"
  },
  "language_info": {
   "codemirror_mode": {
    "name": "ipython",
    "version": 3
   },
   "file_extension": ".py",
   "mimetype": "text/x-python",
   "name": "python",
   "nbconvert_exporter": "python",
   "pygments_lexer": "ipython3",
   "version": "3.7.3"
  }
 },
 "nbformat": 4,
 "nbformat_minor": 2
}
