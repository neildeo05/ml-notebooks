{
 "cells": [
  {
   "cell_type": "code",
   "execution_count": 28,
   "metadata": {},
   "outputs": [],
   "source": [
    "from __future__ import print_function\n",
    "import torch\n",
    "import numpy as np"
   ]
  },
  {
   "cell_type": "code",
   "execution_count": 105,
   "metadata": {},
   "outputs": [
    {
     "name": "stdout",
     "output_type": "stream",
     "text": [
      "tensor([[0, 0, 0],\n",
      "        [0, 0, 0],\n",
      "        [0, 0, 0]], dtype=torch.int32)\n",
      "False\n"
     ]
    }
   ],
   "source": [
    "#Lesson One - Tensors and Numpy Integrations\n",
    "'''An uninitialized matrix is declared,\n",
    "but does not contain definite known values before it is used.\n",
    "When an uninitialized matrix is created, whatever values were \n",
    "in the allocated memory at the time will appear as the initial values.'''\n",
    "\n",
    "#Uninitialized\n",
    "matrix = torch.empty(5,3)\n",
    "\n",
    "#Random\n",
    "matrix = torch.rand(5,3)\n",
    "# print(matrix)\n",
    "\n",
    "#np.zeros but contains a long\n",
    "\n",
    "x = torch.zeros(5,3, dtype=torch.long)\n",
    "# print(x)\n",
    "\n",
    "#create a tensor with manual data - set type equal to float\n",
    "x = torch.tensor([5.5,3], dtype = torch.float)\n",
    "# print(x)\n",
    "\n",
    "#create a tensor based on the previous tensor\n",
    "x = x.new_ones(3,3,dtype=torch.double)\n",
    "#fill the tensor with random doubles\n",
    "x = torch.randn_like(x, dtype=torch.double)\n",
    "#print size of array\n",
    "# x.size()\n",
    "#add two tensors of the same size\n",
    "y = torch.rand(3,3, dtype=torch.double)\n",
    "res = torch.empty(3,3)\n",
    "torch.add(x,y, out=res)\n",
    "#operation that mutates a tensor in place is post fixed with an _\n",
    "# res.copy_(y)\n",
    "\n",
    "#indexing\n",
    "# print(x)\n",
    "x[:,-1] #last column\n",
    "x = torch.rand(4,4)\n",
    "#resizing a tensor\n",
    "# (x.view(-1,8))\n",
    "\n",
    "#one element tensor\n",
    "# x = torch.randn(1)\n",
    "#prints the one item of the one element tensor\n",
    "# (x.item())\n",
    "\n",
    "#converting to a np array\n",
    "\n",
    "a = torch.zeros(3,3, dtype = torch.double)\n",
    "a.add_(2)\n",
    "b = a.numpy()\n",
    "\n",
    "#converting np array to torch tensor\n",
    "import numpy as np\n",
    "\n",
    "a = np.zeros((3,3))\n",
    "b = torch.from_numpy(a)\n",
    "print(b.to(torch.int))\n"
   ]
  },
  {
   "cell_type": "code",
   "execution_count": 130,
   "metadata": {},
   "outputs": [
    {
     "name": "stdout",
     "output_type": "stream",
     "text": [
      "tensor(3., dtype=torch.float64)\n"
     ]
    }
   ],
   "source": [
    "import torch\n",
    "t1 = torch.tensor(4., dtype=torch.double, requires_grad=True)\n",
    "t2 = torch.tensor(3., dtype = torch.double, requires_grad=True)\n",
    "t3 = torch.tensor(10., dtype=torch.double, requires_grad=True)\n",
    "y = t1 * t2 + t3\n",
    "y.backward()\n",
    "print(t1.grad)"
   ]
  },
  {
   "cell_type": "code",
   "execution_count": 100,
   "metadata": {},
   "outputs": [
    {
     "name": "stdout",
     "output_type": "stream",
     "text": [
      "tensor(7., dtype=torch.float64, grad_fn=<AddBackward0>)\n"
     ]
    }
   ],
   "source": [
    "print(t1 + t2)"
   ]
  },
  {
   "cell_type": "code",
   "execution_count": 128,
   "metadata": {},
   "outputs": [
    {
     "name": "stdout",
     "output_type": "stream",
     "text": [
      "tensor([[4., 5., 6.],\n",
      "        [6., 7., 8.]])\n",
      "[[4. 5. 6.]\n",
      " [6. 7. 8.]]\n"
     ]
    }
   ],
   "source": [
    "import numpy as np\n",
    "\n",
    "x = np.ones((3,3))\n",
    "x\n",
    "y = torch.from_numpy(x)\n",
    "\n",
    "y = torch.randn_like(y,dtype=torch.double)\n",
    "\n",
    "y = torch.tensor([[4.,5.,6.],[6.,7.,8.]])\n",
    "print(y)\n",
    "x = y.numpy()\n",
    "print(x)"
   ]
  },
  {
   "cell_type": "code",
   "execution_count": 1,
   "metadata": {},
   "outputs": [],
   "source": [
    "#Linear Regression\n",
    "#predicting yields of apples and oranges depending on input variables/features\n",
    "\n",
    "#in linear regression - each target variable is estimated to be a weighted sum of the input variables, offset by some constant known as bias\n",
    "#usually it is just some weights multiplied by input variables, and a constant is added to it in case there is a\n",
    "#discrepancy in the training data\n",
    "\n",
    "import numpy as np\n",
    "import torch\n",
    "\n",
    "\n"
   ]
  },
  {
   "cell_type": "code",
   "execution_count": 21,
   "metadata": {},
   "outputs": [],
   "source": [
    "#Inputs (temperature, rainfall, humidity)\n",
    "\n",
    "inputs = np.array([[73,67,43],\n",
    "                  [91,88,64],\n",
    "                  [87,134,58],\n",
    "                   [102,43,37],\n",
    "                  [69,96,70]], dtype='double')\n",
    "targets = np.array([[56,70],\n",
    "                  [81,101],\n",
    "                  [119,133],\n",
    "                   [22,37],\n",
    "                  [103,119]], dtype='double')\n",
    "#you can get a column by doing [:,0]\n",
    "#Targets (apples, oranges) inital data before the prediction\n",
    "# targets = np.array([[56,70],[81,101],[119,133],[22,37], [103,119]], dtype='double')\n",
    "inp = torch.from_numpy(inputs)\n",
    "trg = torch.from_numpy(targets)\n"
   ]
  },
  {
   "cell_type": "code",
   "execution_count": 36,
   "metadata": {},
   "outputs": [
    {
     "name": "stdout",
     "output_type": "stream",
     "text": [
      "tensor([[-1.4999,  0.5855,  1.5883],\n",
      "        [ 0.3447,  0.2191, -1.8557]], requires_grad=True)\n",
      "tensor([ 0.4570, -0.5093,  0.9109], grad_fn=<MvBackward>)\n"
     ]
    }
   ],
   "source": [
    "#we can create some random weights - but since there are three input types, (temp, rainfall, hum) we need three weights\n",
    "\n",
    "#weights are matrices, they are random for now\n",
    "weights = torch.randn((2,3), requires_grad=True)\n",
    "\n",
    "#biases are vectors, they are random as well. They will be the constants we add to the weights and the inps\n",
    "biases = torch.randn((2), requires_grad=True)\n",
    "\n",
    "print(weights)\n",
    "print(weights.t())"
   ]
  },
  {
   "cell_type": "code",
   "execution_count": 41,
   "metadata": {},
   "outputs": [
    {
     "name": "stdout",
     "output_type": "stream",
     "text": [
      "tensor([3., 4.], dtype=torch.float64)\n",
      "tensor(7., dtype=torch.float64)\n"
     ]
    }
   ],
   "source": [
    "#model is weights * inputs * bias\n",
    "\n",
    "#.t() transposes the matrix\n",
    "\n",
    "#test matrix multiplication\n",
    "\n",
    "x = torch.tensor([1.,2.], dtype=torch.double)\n",
    "y = torch.tensor([3,2.], dtype=torch.double)\n",
    "print(x * y)\n",
    "\n",
    "# @ gives the final value of a matrix multiplication set\n",
    "print(x @ y)\n",
    "\n"
   ]
  },
  {
   "cell_type": "code",
   "execution_count": null,
   "metadata": {},
   "outputs": [],
   "source": []
  }
 ],
 "metadata": {
  "kernelspec": {
   "display_name": "Python 3",
   "language": "python",
   "name": "python3"
  },
  "language_info": {
   "codemirror_mode": {
    "name": "ipython",
    "version": 3
   },
   "file_extension": ".py",
   "mimetype": "text/x-python",
   "name": "python",
   "nbconvert_exporter": "python",
   "pygments_lexer": "ipython3",
   "version": "3.7.3"
  }
 },
 "nbformat": 4,
 "nbformat_minor": 2
}
